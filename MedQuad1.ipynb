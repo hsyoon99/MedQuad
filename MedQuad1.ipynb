{
  "nbformat": 4,
  "nbformat_minor": 0,
  "metadata": {
    "colab": {
      "name": "Untitled2.ipynb",
      "provenance": [],
      "authorship_tag": "ABX9TyNh9YY1gLdUubg6dL9GRqr2",
      "include_colab_link": true
    },
    "kernelspec": {
      "name": "python3",
      "display_name": "Python 3"
    },
    "accelerator": "GPU"
  },
  "cells": [
    {
      "cell_type": "markdown",
      "metadata": {
        "id": "view-in-github",
        "colab_type": "text"
      },
      "source": [
        "<a href=\"https://colab.research.google.com/github/hsyoon99/MedQuad/blob/main/MedQuad1.ipynb\" target=\"_parent\"><img src=\"https://colab.research.google.com/assets/colab-badge.svg\" alt=\"Open In Colab\"/></a>"
      ]
    },
    {
      "cell_type": "code",
      "metadata": {
        "colab": {
          "resources": {
            "http://localhost:8080/nbextensions/google.colab/files.js": {
              "data": "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",
              "ok": true,
              "headers": [
                [
                  "content-type",
                  "application/javascript"
                ]
              ],
              "status": 200,
              "status_text": ""
            }
          },
          "base_uri": "https://localhost:8080/",
          "height": 76
        },
        "id": "hUbVLt6rtGO0",
        "outputId": "15c66a46-6e22-48ed-c062-444a8931efc0"
      },
      "source": [
        "from google.colab import files\r\n",
        "uploaded = files.upload()"
      ],
      "execution_count": null,
      "outputs": [
        {
          "output_type": "display_data",
          "data": {
            "text/html": [
              "\n",
              "     <input type=\"file\" id=\"files-4bfc09c2-8792-41c0-9bd3-d38c4a4b468a\" name=\"files[]\" multiple disabled\n",
              "        style=\"border:none\" />\n",
              "     <output id=\"result-4bfc09c2-8792-41c0-9bd3-d38c4a4b468a\">\n",
              "      Upload widget is only available when the cell has been executed in the\n",
              "      current browser session. Please rerun this cell to enable.\n",
              "      </output>\n",
              "      <script src=\"/nbextensions/google.colab/files.js\"></script> "
            ],
            "text/plain": [
              "<IPython.core.display.HTML object>"
            ]
          },
          "metadata": {
            "tags": []
          }
        },
        {
          "output_type": "stream",
          "text": [
            "Saving korquad2.1_train_00.json to korquad2.1_train_00.json\n"
          ],
          "name": "stdout"
        }
      ]
    },
    {
      "cell_type": "code",
      "metadata": {
        "colab": {
          "base_uri": "https://localhost:8080/"
        },
        "id": "3EmH6nj98wIO",
        "outputId": "8d3942d8-581e-4e83-b499-8fa385d26956"
      },
      "source": [
        "from google.colab import drive\r\n",
        "drive.mount('/gdrive', force_remount=True)"
      ],
      "execution_count": null,
      "outputs": [
        {
          "output_type": "stream",
          "text": [
            "Mounted at /gdrive\n"
          ],
          "name": "stdout"
        }
      ]
    },
    {
      "cell_type": "code",
      "metadata": {
        "id": "aCHVjr_f818h"
      },
      "source": [
        "import numpy as np\r\n",
        "\r\n",
        "dataset = np.loadtxt(\"\", delimiter=\",\")\r\n",
        "\r\n",
        "print(dataset)"
      ],
      "execution_count": null,
      "outputs": []
    },
    {
      "cell_type": "code",
      "metadata": {
        "colab": {
          "base_uri": "https://localhost:8080/"
        },
        "id": "vbZ9l-ri-mML",
        "outputId": "9b46a31b-accb-48ca-bbbf-0ab8f662cb20"
      },
      "source": [
        "from google.colab import drive\n",
        "drive.mount('/content/drive')"
      ],
      "execution_count": null,
      "outputs": [
        {
          "output_type": "stream",
          "text": [
            "Drive already mounted at /content/drive; to attempt to forcibly remount, call drive.mount(\"/content/drive\", force_remount=True).\n"
          ],
          "name": "stdout"
        }
      ]
    },
    {
      "cell_type": "code",
      "metadata": {
        "id": "1Xi4DPX2-r0m",
        "colab": {
          "base_uri": "https://localhost:8080/",
          "height": 1000
        },
        "outputId": "b6d038ab-c723-4893-e90a-96b2792f1a6d"
      },
      "source": [
        "import pandas as pd \r\n",
        "\r\n",
        "train_df = pd.read_csv('/content/drive/MyDrive/hackathon_2-2/data/train/MedQuAD_v1.0_train.json', sep=',')\r\n",
        "train_df.head()\r\n",
        "\r\n"
      ],
      "execution_count": 3,
      "outputs": [
        {
          "output_type": "execute_result",
          "data": {
            "text/html": [
              "<div>\n",
              "<style scoped>\n",
              "    .dataframe tbody tr th:only-of-type {\n",
              "        vertical-align: middle;\n",
              "    }\n",
              "\n",
              "    .dataframe tbody tr th {\n",
              "        vertical-align: top;\n",
              "    }\n",
              "\n",
              "    .dataframe thead th {\n",
              "        text-align: right;\n",
              "    }\n",
              "</style>\n",
              "<table border=\"1\" class=\"dataframe\">\n",
              "  <thead>\n",
              "    <tr style=\"text-align: right;\">\n",
              "      <th></th>\n",
              "      <th>{\"version\": \"MedQuAD_v1.0_train\"</th>\n",
              "      <th>\"data\": [{\"paragraphs\": [{\"qas\": [{\"answers\": [{\"text\": \"A: \\ucd5c\\uadfc \\uc0bc \\uac1c\\uc6d4 \\uc774\\ub0b4\\uc5d0 \\uc785\\uc6d0\\uc774\\ub098 \\uc218\\uc220\\ud558\\uc2e0 \\uc801 \\uc788\\uc73c\\uc2e0\\uac00\\uc694? B: \\uc544\\ub2c8\\uc694.\"</th>\n",
              "      <th>\"answer_start\": 4163}]</th>\n",
              "      <th>\"id\": \"1@20KMB_23_210115_H.txt\"</th>\n",
              "      <th>\"question\": \"\\uc785\\uc6d0/\\uc218\\uc220/\\uce58\\ub8cc \\uacbd\\ud5d8 \\ud655\\uc778\"}</th>\n",
              "      <th>{\"answers\": [{\"text\": \"A: \\ud761\\uc5f0\\ud558\\uc2dc\\ub098\\uc694? B: \\ub124 \\ud558\\uc8e0.\"</th>\n",
              "      <th>\"answer_start\": 4205}]</th>\n",
              "      <th>\"id\": \"2@26KMB_23_210115_H.txt\"</th>\n",
              "      <th>\"question\": \"\\ud761\\uc5f0 \\uc5ec\\ubd80\"}</th>\n",
              "      <th>{\"answers\": [{\"text\": \"A: \\uc74c\\uc8fc\\ub294 \\ud558\\uc138\\uc694? B: \\uadf8\\ub7fc \\ud558\\uc9c0.\"</th>\n",
              "      <th>\"answer_start\": 4463}]</th>\n",
              "      <th>\"id\": \"3@27KMB_23_210115_H.txt\"</th>\n",
              "      <th>\"question\": \"\\ud3c9\\uc18c \\uc74c\\uc8fc \\uc5ec\\ubd80\"}</th>\n",
              "      <th>{\"answers\": [{\"text\": \"A: \\uc9c0\\uae08 \\uc5b4\\ub514\\uac00 \\uc81c\\uc77c \\ubd88\\ud3b8\\ud558\\uc138\\uc694? B: \\uc5ec\\uae30 \\uac00\\uc2b4 \\uc544\\ub798 \\ubd80\\ubd84. B: \\ubb50\\ub77c \\ud558\\ub354\\ub77c? \\uc544 \\uba85\\uce58 \\uc548\\ucabd\\uc774 \\uc4f0\\ub824\\uc694.\"</th>\n",
              "      <th>\"answer_start\": 4617}]</th>\n",
              "      <th>\"id\": \"4@17KMB_23_210115_H.txt\"</th>\n",
              "      <th>\"question\": \"\\ud1b5\\uc99d \\ubd80\\uc704\"}</th>\n",
              "      <th>{\"answers\": [{\"text\": \"A: \\uc5b8\\uc81c\\ubd80\\ud130 \\uc544\\ud504\\uc168\\uc5b4\\uc694? B: \\ubab0\\ub77c\\uc694. B: \\uc4f0\\ub9b0 \\uac70\\ub294 \\ucd5c\\uadfc\\uc5d0\\uc57c \\uc2dc\\uc791\\ud588\\ub294\\ub370.\"</th>\n",
              "      <th>\"answer_start\": 4707}]</th>\n",
              "      <th>\"id\": \"5@2KMB_23_210115_H.txt\"</th>\n",
              "      <th>\"question\": \"\\uc8fc \\uc99d\\uc0c1 \\ubc1c\\uc0dd \\uae30\\uac04 \\ud655\\uc778\"}</th>\n",
              "      <th>{\"answers\": [{\"text\": \"A: \\uc77c \\uc810\\uc774 \\uac00\\uc7a5 \\uc57d\\ud55c \\ud1b5\\uc99d\\uc774\\uace0 \\uc2ed \\uc810\\uc774 \\uac00\\uc7a5 \\uac15\\ud55c \\ud1b5\\uc99d\\uc77c \\ub54c \\uba87 \\uc810 \\uc815\\ub3c4 \\ub418\\uc2dc\\ub294\\uac00\\uc694? B: \\uadfc\\ub370 \\uc774\\uac8c \\uacc4\\uc18d \\uc544\\ud508 \\uac8c \\uc544\\ub2c8\\ub77c \\ubb50 \\uba39\\uc73c\\uba74 \\uad1c\\ucc2e\\uc544\\uc9c0\\uace0 \\uadf8\\ub7ec\\ub2e4\\uac00 \\ub610 \\uc5bc\\ub9c8 \\uc548 \\uac00\\uc11c \\uc4f0\\ub77c\\ub9ac\\uace0 \\uadf8\\ub798\\uc694.\"</th>\n",
              "      <th>\"answer_start\": 4884}]</th>\n",
              "      <th>\"id\": \"6@18KMB_23_210115_H.txt\"</th>\n",
              "      <th>\"question\": \"\\ud1b5\\uc99d \\uac15\\ub3c4\"}</th>\n",
              "      <th>{\"answers\": [{\"text\": \"A: \\uace0\\ud608\\uc555</th>\n",
              "      <th>\\ub2f9\\ub1e8</th>\n",
              "      <th>\\uacb0\\ud575</th>\n",
              "      <th>\\uac04\\uc5fc\\uacfc \\uac19\\uc740 \\ub9cc\\uc131 \\uc9c8\\ud658 \\uc553\\uace0 \\uacc4\\uc2e0 \\uac70 \\uc788\\uc73c\\uc138\\uc694? B: \\uc5c6\\uc2b5\\ub2c8\\ub2e4.\"</th>\n",
              "      <th>\"answer_start\": 5088}]</th>\n",
              "      <th>\"id\": \"7@22KMB_23_210115_H.txt\"</th>\n",
              "      <th>\"question\": \"\\ubcf4\\uc720 \\uc9c8\\ubcd1 \\ud655\\uc778\"}</th>\n",
              "      <th>{\"answers\": [{\"text\": \"A: \\ucd5c\\uadfc\\uc5d0 \\ubcf5\\uc6a9\\ud558\\uace0 \\uacc4\\uc2e0 \\uc57d\\ubb3c \\uc788\\uc73c\\uc2e0\\uac00\\uc694? B: \\uc57d\\uad6d\\uc5d0\\uc11c \\ubc1b\\uc740 \\uc57d\\ub3c4 \\ub9d0\\ud574\\uc57c \\ud574\\uc694?\"</th>\n",
              "      <th>\"answer_start\": 5173}]</th>\n",
              "      <th>\"id\": \"8@21KMB_23_210115_H.txt\"</th>\n",
              "      <th>\"question\": \"\\ud604\\uc7ac \\ubcf5\\uc6a9 \\uc57d \\uc5ec\\ubd80\"}</th>\n",
              "      <th>{\"answers\": [{\"text\": \"A: \\uc544\\uae4c \\ubab8\\ubb34\\uac8c \\uc7c0\\ub294\\ub370 \\uadf8 \\uc804\\uc774\\ub791 \\ube44\\uad50\\ud558\\uba74\\uc694? B: \\uc74c. \\uc798 \\uae30\\uc5b5\\uc740 \\uc548 \\ub098\\ub294\\ub370 \\ub9c8\\uc9c0\\ub9c9\\uc5d0 \\uc7c0\\uc744 \\ub54c\\ubcf4\\ub2e4 \\uc870\\uae08 \\ucc10 \\uac70 \\uac19\\uc544\\uc694. B: \\uc0ac \\ud0ac\\ub85c\\uadf8\\ub7a8 \\uc815\\ub3c4?\"</th>\n",
              "      <th>\"answer_start\": 5689}]</th>\n",
              "      <th>\"id\": \"9@14KMB_23_210115_H.txt\"</th>\n",
              "      <th>\"question\": \"\\uccb4\\uc911\\ubcc0\\ud654 \\ud655\\uc778\"}</th>\n",
              "      <th>...</th>\n",
              "      <th>Tv</th>\n",
              "      <th>\\uc1fc\\ud30c.3</th>\n",
              "      <th>\\uc815\\uc218\\uae30 \\ub4f1 \\ud3b8\\ud558\\uac8c \\ud734\\uc2dd\\uc2e4\\ub85c \\uc0dd\\uac01\\ud558\\uc2dc\\uba74 \\ub418\\uc2dc\\uace0\\uc694</th>\n",
              "      <th>\\uc2dd\\uc0ac\\uc2dc\\uac04\\uc5d0\\ub294 \\uc5ec\\uae30 \\uc548\\uc5d0 \\uc2dd\\ud310\\ub300\\uac00 \\ub4e4\\uc5b4\\uc640\\uc788\\uc744\\uac70\\uc5d0\\uc694</th>\n",
              "      <th>\\uc548\\uc5d0 \\ub123\\uc5b4\\uc8fc\\uc2dc\\uba74 \\ub429\\ub2c8\\ub2e4. C: \\ub124. A: \\uadf8\\ub9ac\\uace0 \\ubc30\\uc120\\uc2e4\\ub098\\uc640\\uc11c \\uc800\\uae30 \\ubcf4\\uc774\\ub294 \\uc720\\ub9ac\\ubb38\\uc774 \\ube44\\uc0c1\\uad6c\\uace0\\uc694</th>\n",
              "      <th>\\ubc18\\ub300\\ud3b8 \\ubcf5\\ub3c4\\uc5d0\\ub3c4 \\ub9c8\\ucc2c\\uac00\\uc9c0\\ub85c \\ube44\\uc0c1\\uad6c\\uac00 \\uc704\\uce58\\ud574\\uc788\\uc2b5\\ub2c8\\ub2e4. A: \\uc911\\uc559\\uacc4\\ub2e8\\ub3c4 \\ube44\\uc0c1\\uc2dc \\uc774\\uc6a9\\uac00\\ub2a5\\ud558\\uc9c0\\ub9cc \\uc544\\ubb34\\ub798\\ub3c4 \\uc0ac\\ub78c\\uc774 \\ubab0\\ub9b4\\uac78 \\uc608\\uc0c1\\ud558\\uae30 \\ub54c\\ubb38\\uc5d0 \\uc591\\ucabd\\uc758 \\ube44\\uc0c1\\uad6c\\ub97c \\uc774\\uc6a9\\ud558\\uc2dc\\ub294 \\ud3b8\\uc774 \\ub098\\uc73c\\uc2e4\\uac70\\uc5d0\\uc694</th>\n",
              "      <th>\\ube44\\uc0c1\\uc2dc \\uc548\\ub0b4\\uc5d0 \\ub530\\ub77c\\uc11c \\uc774\\ub3d9\\ud574\\uc8fc\\uc2dc\\uba74 \\ub418\\uc2dc\\uace0\\uc694</th>\n",
              "      <th>\\uc774\\uc81c\\ub294 \\ubcd1\\uc2e4\\ub85c \\ub4e4\\uc5b4\\uac00\\uaca0\\uc2b5\\ub2c8\\ub2e4. C: \\ub124. A: \\uc544 \\ud658\\uc758\\uac08\\uc544\\uc785\\uace0\\ub294 \\uc5ec\\uae30 \\ubb38\\uc5ec\\uc2dc\\uba74 \\uc138\\ud0c1\\ub9dd\\uc774 \\uc788\\uc5b4\\uc694</th>\n",
              "      <th>\\uc5ec\\uae30\\uc5d0\\ub2e4 \\ub123\\uc5b4\\uc8fc\\uc2dc\\uba74 \\ub429\\ub2c8\\ub2e4</th>\n",
              "      <th>C: \\ub124. A: \\uadf8\\ub7ec\\uba74 \\uc774\\uc81c \\uac04\\ub2e8\\ud55c \\ubcd1\\ub3d9 \\uc548\\ub0b4\\ub294 \\ub05d\\ub0ac\\uace0\\uc694</th>\n",
              "      <th>\\ubcd1\\uc6d0 1\\uce35\\uc5d0\\ub294 00\\uc740\\ud589</th>\n",
              "      <th>00\\uc740\\ud589ATM\\uae30\\uae30</th>\n",
              "      <th>\\uc99d\\uba85\\uc11c\\ubc1c\\uae09\\uae30</th>\n",
              "      <th>\\uc785\\uc6d0\\uacc4</th>\n",
              "      <th>\\ud1f4\\uc6d0\\uacc4</th>\n",
              "      <th>\\uce74\\ud398 \\ubc0f \\ud3b8\\uc758\\uc810\\uc774 \\uc704\\uce58\\ud574 \\uc788\\uace0\\uc694</th>\n",
              "      <th>2\\uce35\\uc5d0\\ub294 \\uc758\\ub8cc\\uae30\\uc0c1\\uc0ac</th>\n",
              "      <th>\\uac01\\uc885 \\uc678\\ub798 \\ub4f1\\uc774 \\uc704\\uce58\\ud574 \\uc788\\uc2b5\\ub2c8\\ub2e4. A: \\uc18c\\uc544\\uccad\\uc18c\\ub144\\uacfc\\ub294 \\uc2e0\\uad00 1\\uce35\\uc5d0 \\uc704\\uce58\\ud574 \\uc788\\uc2b5\\ub2c8\\ub2e4. C: \\ub124. A: \\uc5ec\\uae30\\uac00 \\uc55e\\uc73c\\ub85c \\uc0ac\\uc6a9\\ud558\\uac8c \\ub418\\uc2e4 \\ubcd1\\uc2e4\\uc785\\ub2c8\\ub2e4. A: \\ud658\\uc758\\ub97c \\uba3c\\uc800 \\uac08\\uc544\\uc785\\uace0 \\uacc4\\uc2dc\\uba74</th>\n",
              "      <th>\\uc55e\\uc73c\\ub85c \\uba87\\uac00\\uc9c0 \\ubb3c\\uc5b4\\ubcfc\\uac8c \\uc788\\uc5b4\\uc11c \\uc9c8\\ubb38 \\ub4dc\\ub9ac\\uaca0\\uc2b5\\ub2c8\\ub2e4. A: \\uc77c\\ub2e8 \\ud658\\uc758\\ub85c \\uac08\\uc544\\uc785\\uace0 \\uacc4\\uc2e4\\uac8c\\uc694. C: \\ub124. A: \\ubcf4\\ud638\\uc790\\ubd84~ \\uc774\\uc81c \\uba87\\uac00\\uc9c0 \\ubcd1\\uc6d0\\ub0b4 \\uc8fc\\uc758\\uc0ac\\ud56d \\uba3c\\uc800 \\uc124\\uba85\\ub4dc\\ub9ac\\uace0 \\uc0ac\\uc778\\ud558\\uace0~ \\uadf8 \\ub2e4\\uc74c\\uc5d0 \\uc9c8\\ubb38\\uc774\\uc5b4\\uac08\\uac8c\\uc694. A: \\uc6b0\\uc120 \\ubcd1\\uc6d0\\ub0b4 \\uae08\\uc5f0\\uc740 \\ub2f9\\uc5f0\\ud788 \\uc798\\uc544\\uc2e4\\ud14c\\uace0\\uc694</th>\n",
              "      <th>\\ubcd1\\uc6d0\\uc5d0 \\uac00\\uc838\\uc624\\uba74 \\uc548\\ub418\\ub294 \\ud488\\ubaa9\\uc73c\\ub85c \\uacfc\\ub3c4.1</th>\n",
              "      <th>\\ub098\\uc774\\ud504.3</th>\n",
              "      <th>\\ubc84\\ub108.13</th>\n",
              "      <th>\\ub77c\\uc774\\ud130 \\ub4f1\\uc774 \\uc788\\uc2b5\\ub2c8\\ub2e4. A: \\uc5ec\\uae30 \\uc785\\uc6d0\\uc0dd\\ud65c \\uc548\\ub0b4\\ubb38\\uc5d0 \\uc880 \\ub354 \\uc790\\uc138\\ud558\\uac8c \\ub098\\uc640\\uc788\\uc73c\\ub2c8 \\ucc38\\uace0 \\ubd80\\ud0c1\\ub4dc\\ub9ac\\uace0\\uc694. C: \\ub124. A: \\uc785\\uc6d0\\uc911\\uc5d0 \\ud544\\uc694\\ud558\\uc2e0 \\uc77c\\ud68c\\uc6a9\\ubb3c\\ud488\\ub4f1\\uc740 \\ub300\\ubd80\\ubd84 1\\uce35 \\ud3b8\\uc758\\uc810\\uc774\\ub098 \\uc758\\ub8cc\\uae30\\uc0c1\\uc0ac\\ub97c \\ubc29\\ubb38\\ud558\\uc2dc\\uba74 \\uad6c\\ub9e4\\uac00\\ub2a5\\ud558\\uc2e4\\uac81\\ub2c8\\ub2e4. A: \\ud639\\uc2dc \\uad81\\uae08\\ud558\\uc2e0\\uac8c \\uc788\\uc744\\uae4c\\uc694? C: \\uc544\\ub2c8\\uc694. A: \\uadf8\\ub7ec\\uba74 \\uc5ec\\uae30 \\uc785\\uc6d0\\uc0dd\\ud65c\\uc548\\ub0b4\\ub97c \\ub4e4\\uc5c8\\ub2e4\\ub294 \\uc0ac\\uc778\\ud55c\\ubc88 \\ubd80\\ud0c1\\ub4dc\\ub9ac\\uace0\\uc694</th>\n",
              "      <th>\\ub4b7\\uc7a5\\ub3c4 \\uc0ac\\uc778\\ubd80\\ud0c1\\ub4dc\\ub9b4\\uac8c\\uc694</th>\n",
              "      <th>C: \\ub4b7\\uc7a5\\uc740 \\ubb50\\uc5d0\\uc694? A: \\ud658\\uc790\\ubd84\\uc758 \\uce58\\ub8cc\\ub97c \\uc704\\ud574 \\uc0ac\\uc6a9\\ud558\\ub294 \\ud488\\ubaa9\\uc5d0 \\ube44\\uae09\\uc5ec \\ud56d\\ubaa9\\uc774 \\ud3ec\\ud568\\ub418\\uc5b4 \\uc788\\ub2e4\\ub294 \\ub3d9\\uc758\\uc11c\\uc785\\ub2c8\\ub2e4. C: \\ub124. A: \\ub124 \\uadf8\\ub7ec\\uba74 \\uc0ac\\uc778\\uc740 \\ub2e4 \\ub418\\uc168\\uace0\\uc694</th>\n",
              "      <th>\\ud658\\uc790\\ubd84\\uacfc \\ubcf4\\ud638\\uc790\\ubd84 \\uc5f4\\uccb4\\ud06c\\ud55c\\ubc88\\ud558\\ub3c4\\ub85d \\ud558\\uaca0\\uc2b5\\ub2c8\\ub2e4. C: \\uc800\\ub3c4\\ud558\\ub098\\uc694? A: \\uc694\\uc998 \\ucf54\\ub85c\\ub098 \\ub54c\\ubb38\\uc5d0 \\ubcf4\\ud638\\uc790\\ubd84\\ub4e4\\ub3c4 \\ud558\\ub8e8\\uc5d0 \\ud55c\\ubc88\\uc529 \\uaf2d \\uc7ac\\ub3c4\\ub85d \\ubc14\\ub00c\\uc5b4\\uc11c\\uc694</th>\n",
              "      <th>\\ubcd1\\uc6d0\\uc5d0 \\ub4e4\\uc5b4\\uc62c\\ub54c \\uc7ac\\uc168\\ub354\\ub77c\\ub3c4</th>\n",
              "      <th>\\uc800\\ud76c\\ucabd\\uc5d0\\uc11c \\ud55c\\ubc88\\ub354 \\uc7ac\\uc11c \\ub9e4\\uc77c \\uad00\\ub9ac\\ud558\\uace0 \\uc788\\uc2b5\\ub2c8\\ub2e4. C: \\ub124. A: \\uc544\\uc774\\ub294 \\uc5f4\\uc774 \\uc0bd\\uc2e4\\ud314 \\ub3c4 \\uc5b4\\uba38\\ub2c8\\ub294 \\uc0bc\\uc2e4\\uc721 \\uc810 \\uce60 \\ub3c4 \\uc774\\uc2dc\\ub124\\uc694. C: \\ub124. A: \\uc5b8\\uc81c\\ubd80\\ud130 \\uc5f4\\uc774 \\uc774\\ub807\\uac8c \\ub192\\uac8c \\ub0ac\\ub098\\uc694? C: \\uac11\\uc790\\uae30 \\uc774\\ub798\\uc694 \\uc774 \\uc77c\\uc804 \\uc544\\uce68\\ubd80\\ud130 \\ubaa9\\uc774 \\uce7c\\uce7c\\ud558\\ub2e4\\uace0 \\ud558\\uae34 \\ud588\\ub294\\ub370 \\uac11\\uc790\\uae30 \\ub9d0\\ub3c4 \\ud558\\uae30 \\uc5b4\\ub824\\uc6cc\\uc9c0\\uace0 \\uac71\\uc815\\uc774\\uc5d0\\uc694. A: \\ub124\\u2026\\uc6b0\\uc120 \\uc228\\uc26c\\uae30\\ub294 \\ud3b8\\ud55c\\uac00\\uc694 \\ud658\\uc790\\ubd84? C: \\uc544\\ub2c8\\ub798\\uc694. A: \\uc870\\uce58\\uac00 \\uc870\\uae08 \\ube68\\ub9ac \\ud544\\uc694\\ud560 \\uac83 \\uac19\\ub124\\uc694. A: \\uc5bc\\ub978 \\uc678\\ub798\\uc5d0\\uc11c\\ub294 \\ubb50\\ub77c\\uace0 \\ud558\\uc168\\uc5b4\\uc694? C: \\uc77c\\ub2e8 \\ubcd1\\ub3d9\\uc62c\\ub77c\\uac00\\uc11c \\uc138\\uade0\\uac80\\uc0ac\\ud558\\uace0 \\ud56d\\uc0dd\\uc81c\\ubd80\\ud130 \\ub9de\\uc544\\ubcf4\\uc790\\uace0 \\ud588\\uc5b4\\uc694</th>\n",
              "      <th>\\ub9cc\\uc57d \\ub354 \\ud798\\ub4e4\\uc5b4\\ud558\\uba74 \\ubc14\\ub85c \\uae30\\uad00\\uc0bd\\uad00\\ud558\\uba74 \\ub41c\\ub2e4\\uace0. A: \\uc544. \\ub124. A: \\uadf8\\ub7ec\\uba74 \\uc77c\\ub2e8 \\uc5bc\\ub978 \\uc785\\uc6d0\\uc870\\uc0ac\\ubd80\\ud130 \\ub9c8\\uce58\\uace0 \\ucc98\\ubc29\\ub098\\uc628\\ub300\\ub85c \\uc5bc\\ub978 \\ud574\\ub4dc\\ub9b4\\uac8c\\uc694. A: \\uc544\\ub9c8 \\uade0\\ubc30\\uc591\\uac80\\uc0ac \\ud558\\uace0 \\ud56d\\uc0dd\\uc81c \\ucc98\\ubc29\\ub0b4\\uc168\\uc744\\uac70\\uc5d0\\uc694. C: \\ub124. A: \\uadf8\\ub7ec\\uba74 \\ud658\\uc790\\ubd84\\uc758 \\uc885\\uad50\\uac00 \\uc5b4\\ub5bb\\uac8c \\ub418\\ub098\\uc694? C: \\ubd88\\uad50\\uc774\\uae34\\ud55c\\ub370. A: \\ub124 \\uc885\\uad50\\uc2e4\\uc774\\ub098 \\uc885\\uad50\\uc778\\ubc29\\ubb38\\uc740 \\uc6d0\\ud558\\uc2dc\\ub294\\uac00\\uc694? C: \\uc544\\ub2c8\\uc694. A: \\ucd5c\\uadfc 4\\uc8fc \\uc774\\ub0b4\\uc5d0 \\ud574\\uc678\\uc5ec\\ud589 \\ub2e4\\ub140\\uc624\\uc2e0\\uc801 \\uc788\\uc73c\\uc2e0\\uac00\\uc694? C: \\uc544\\ub2c8\\uc694. A: \\ucd5c\\uadfc 3\\uac1c\\uc6d4 \\uc774\\ub0b4\\uc5d0 \\uc785\\uc6d0\\uacbd\\ud5d8\\uc774 \\uc788\\uc73c\\uc2e0\\uac00\\uc694? C: \\uc544\\ub2c8\\uc694. A: \\ud604\\uc7ac \\uc5b4\\ub514\\uac00 \\uc81c\\uc77c \\ubd88\\ud3b8\\ud558\\uc138\\uc694? C: \\uc5b4\\ub514\\uac00 \\uc81c\\uc77c \\ubd88\\ud3b8\\ud574? \\uac00\\ub974\\ucf1c\\ubd10. C:\\ub9d0\\ud558\\uae30 \\uc5b4\\ub824\\uc6b4\\uac70\\ub791 \\ubaa9\\uc774 \\uc544\\ud508\\uac70\\uc9c0? A: \\uce68\\uc0bc\\ud0a4\\ub294\\uac8c \\uc870\\uae08 \\uc5b4\\ub824\\uc6cc \\ubcf4\\uc774\\ub124\\uc694. C: \\uadfc\\ub370 \\uc544\\uc774\\ub294 \\uc65c \\uc774\\ub807\\uac8c \\uc549\\ub294\\uac70\\uc5d0\\uc694? \\uc544\\ud504\\uae30 \\uc2dc\\uc791\\ud560\\ub54c\\ub294 \\uc548\\uc774\\ub7ec\\ub354\\ub2c8 \\uac11\\uc790\\uae30 \\uc774\\ub7ec\\ub124\\uc694</th>\n",
              "      <th>\\ud131\\uc744 \\uc55e\\uc73c\\ub85c \\uae30\\uc6b8\\uc774\\uace0 \\uc785\\ub3c4 \\ubc8c\\ub9ac\\uace0 \\uc788\\uace0 \\ud600\\ub3c4 \\uacc4\\uc18d \\ub0b4\\ubc00\\ub824\\uace0 \\ud558\\uace0. A: \\ubaa9\\uc774 \\ubd80\\uc5b4\\uc11c \\uc228\\uc26c\\ub294\\uac8c \\uc5b4\\ub835\\uace0 \\ud558\\ub2c8\\uae4c \\uc774\\ub7f0 \\uc790\\uc138\\uac00 \\ub098\\uc624\\ub294\\uac70\\uc5d0\\uc694</th>\n",
              "      <th>\\ub108\\ubb34 \\ud798\\ub4e4\\uc9c0 \\uc54a\\uac8c \\uc870\\uce58\\uac00 \\ud544\\uc694\\ud560\\uac83\\uac19\\uc544\\uc694. C: \\ub124. A: \\ud639\\uc2dc \\ud658\\uc790\\ubd84\\uc774 \\uc553\\uace0 \\uc788\\ub294 \\ub9cc\\uc131\\uc9c8\\ud658 \\uc788\\ub098\\uc694? \\ub2f9\\ub1e8\\ub098 \\uacb0\\ud575 \\uac19\\uc740. C: \\uc544\\ub2c8\\uc694. \\uc5c6\\uc5b4\\uc694. C: \\uac74\\uac15\\ud588\\uc5b4\\uc694. A: \\uc5b4\\uba38\\ub2c8\\ub098 \\uc544\\ubc84\\uc9c0 \\ud615\\uc81c \\uc911\\uc5d0 \\uace0\\ud608\\uc555 \\ub2f9\\ub1e8 \\uacb0\\ud575 \\uac04\\uc5fc\\uacfc \\uac19\\uc740 \\ub9cc\\uc131\\uc9c8\\ud658 \\uc553\\uace0 \\uacc4\\uc2e0\\uac00\\uc694? C: \\uc544\\ub2c8\\uc694. A: \\ud658\\uc790\\ubd84 \\uc218\\uc220\\ud558\\uac70\\ub098 \\uc785\\uc6d0\\ud55c \\uacbd\\ud5d8\\uc774 \\uc788\\ub098\\uc694? C: \\uc544\\ub2c8\\uc694 \\uc774\\ubc88\\uc774 \\ucc98\\uc74c\\uc774\\uc5d0\\uc694 A: \\ud658\\uc790\\ubd84 \\uc74c\\uc2dd\\uc774\\ub098 \\uc57d\\uc5d0 \\ub300\\ud55c \\uc54c\\ub7ec\\uc9c0 \\uc788\\uc73c\\uc2e0\\uac00\\uc694? C: \\uc544\\ub2c8\\uc694. \\ub2e4 \\uc798\\uba39\\uc5b4\\uc694. A: \\ucd5c\\uadfc\\uc5d0 \\ubcf5\\uc6a9\\ud558\\uace0 \\uacc4\\uc2e0 \\uc57d\\ubb3c \\uc788\\uc73c\\uc2e0\\uac00\\uc694? C: \\uc5c6\\uc5b4\\uc694. A: \\ud639\\uc2dc \\ud658\\uc790\\ubd84 \\ud1b5\\uc99d\\uc774 \\uc5b4\\ub5bb\\uac8c \\uc544\\ud50c\\uae4c\\uc694? A: \\uc608\\ub9ac\\ud558\\uac70\\ub098 \\ucc0c\\ub974\\ub294 \\uac83\\ucc98\\ub7fc \\uc544\\ud504\\uba74 \\uac80\\uc9c0\\ub97c \\ud53c\\uace0\\uc694. A: \\uc464\\uc2dc\\uac70\\ub098 \\ub454\\ud55c \\ud1b5\\uc99d\\uc774\\uba74 \\uc67c\\uc190\\uc744 \\ud65c\\uc9dd \\ud3b4\\uc694. A: \\ub458 \\ub2e4 \\uc544\\ub2c8\\uba74 \\uc8fc\\uba39\\uc744 \\uc950\\uace0\\uc694. C: \\uc5bc\\ub978\\ud574. \\uc5c6\\uc5b4? A: \\uc54c\\ub824\\uc918\\uc11c \\uace0\\ub9c8\\uc6cc\\uc694. A: \\uc774\\ubc88\\uc5d0\\ub294 \\uc810\\uc218\\ub97c \\ub9e4\\uaca8 \\ubcfc\\uac74\\ub370\\uc694. A: \\uc77c \\uc810\\uc774 \\uac00\\uc7a5 \\uc57d\\ud55c \\ud1b5\\uc99d\\uc774\\uace0 \\uc2ed \\uc810\\uc774 \\uac00\\uc7a5 \\uac15\\ud558\\ub2e4\\uace0 \\ud560 \\ub54c \\uba87 \\uc810 \\uc815\\ub3c4 \\ub420\\uae4c\\uc694? A: \\uc190\\uac00\\ub77d\\uc744 \\ud3b4\\uc11c \\ub9d0\\ud574\\uc8fc\\uc138\\uc694. C: \\uc624 \\uc810\\uc774\\ub77c\\ub124\\uc694. A: \\ub124. \\uacc4\\uc18d \\uc544\\ud30c\\ud558\\ub098\\uc694 \\ud639\\uc2dc? C: \\ub124. A: \\ucd5c\\uadfc \\ud658\\uc790\\ubd84 \\uc2dd\\uc0ac\\ub294 \\uc798\\ud558\\ub098\\uc694? C: \\ub124\\ub124 \\uc798 \\uba39\\uae30\\ub294 \\uc798 \\uba39\\uc5c8\\uc5b4\\uc694. C: \\uadfc\\ub370 \\uc9c0\\uae08\\uc740 \\uc0bc\\ud0a4\\ub294 \\uac8c \\uc5b4\\ub824\\uc6cc\\uc11c \\uc798 \\ubabb \\uba39\\uc9c0\\uc694. C: \\uc624\\ub298 \\uc544\\uce68\\uc740 \\uc8fd \\ub053\\uc5ec\\ub2e4 \\uba39\\uc600\\uc5b4\\uc694. A: \\ub124. \\ucd5c\\uadfc \\uc0bc \\uac1c\\uc6d4 \\ub0b4\\uc5d0 \\uccb4\\uc911 \\ubcc0\\ud654\\ub294 \\uc5c6\\uc73c\\uc2dc\\uc8e0? C: \\uc0b4\\ucc0c\\ub294 \\uc911\\uc774\\uc5c8\\uc8e0. C: \\uc774 \\ud0ac\\ub85c\\uadf8\\ub7a8\\uc740 \\uca98\\uc744 \\uac70\\uc5d0\\uc694 \\uc0bc \\uac1c\\uc6d4 \\uc804\\ubcf4\\ub2e4. A: \\ud558\\ub8e8\\uc5d0 \\uba87 \\uc2dc\\uac04 \\uc815\\ub3c4 \\uc7a0\\uc744 \\uc790\\ub098\\uc694? C: \\uc544\\ud649 \\uc2dc\\uac04 \\uc815\\ub3c4 \\uc790\\uc694. A: \\uc911\\uac04\\uc5d0 \\uae68\\uac70\\ub098 \\uc7a0\\ubabb\\ub4e4\\uc9c0\\ub294 \\uc54a\\uace0\\uc694? C: \\ub124\\ub124 \\uc911\\uac04\\uc5d0 \\uae70\\ub54c\\ub3c4 \\uc788\\uae34\\ud55c\\uac70 \\uac19\\uc740\\ub370 \\uc54c\\uc544\\uc11c \\ub2e4\\uc2dc\\uc790\\uc694</th>\n",
              "      <th>\\uc544 \\uadf8\\ub9ac\\uace0 \\uc5b4\\uc81c\\ubc24\\uc5d0\\ub294 \\uc720\\ub3c5 \\ucf54\\ub97c \\uace8\\ub354\\ub77c\\uace0\\uc694</th>\n",
              "      <th>A: \\ud6c4\\ub450\\uac00 \\ubd93\\uac70\\ub098 \\ud558\\uba74 \\uadf8\\ub7f4 \\uc218 \\uc788\\uc5b4\\uc694. A: \\ub300\\ubcc0\\uc774\\ub098 \\uc18c\\ubcc0 \\ubcf4\\ub294\\ub370 \\ubb38\\uc81c \\uc788\\uc73c\\uc2e0\\uac00\\uc694? C: \\ubb38\\uc81c\\uc5c6\\uc774 \\uad1c\\ucc2e\\uc544\\uc694. A: \\ud53c\\ubd80\\uc0c1\\ud0dc \\ud55c\\ubc88 \\uad00\\ucc30\\ud574\\ubcfc\\uac8c\\uc694. A: \\ubb3c\\uc9d1\\uc774\\ub098 \\uac74\\uc870\\ud55c \\uacf3 \\uc788\\ub294\\uc9c0 \\ubcf4\\ub294 \\uac70\\uc5d0\\uc694. C: \\ub124. A: \\uad1c\\ucc2e\\uc73c\\uc2dc\\ub124\\uc694. A: \\ud639\\uc2dc \\uad6c\\ud1a0\\ud560 \\uac83 \\uac19\\uc740 \\ub290\\ub08c\\uc774\\ub098 \\uc2e4\\uc81c\\ub85c \\ud1a0\\ub97c \\ud558\\ub098\\uc694? C: \\uc544\\ub2c8\\uc694 \\uadf8\\ub807\\uc9c0\\ub294 \\uc54a\\uc544\\uc694. A: \\ubcf5\\ud1b5\\uc774\\ub098 \\uc18c\\ud654\\uac00 \\uc548 \\ub418\\uc9c0\\ub294 \\uc54a\\uace0\\uc694? C: \\ub124. A: \\ud658\\uc790\\ubd84 \\uac11\\uc790\\uae30 \\uc2ec\\uc7a5\\uc774 \\ucff5\\ucff5 \\ube60\\ub974\\uac8c \\ub6f0\\uac70\\ub098 \\uac00\\uc2b4 \\uc544\\ud508 \\uc801 \\uc788\\uc5b4\\uc694? C: \\uc800\\ub7ec\\uba74 \\uc5c6\\ub2e4\\ub294 \\uac70\\uc5d0\\uc694. A: \\ub124. \\ud639\\uc2dc \\ubd80\\uc885\\uc788\\ub294\\uc9c0 \\ub2e4\\ub9ac \\uc880\\uac77\\uc5b4\\uc11c \\ubcfc\\uac8c\\uc694. C: \\ub124. A: \\uae30\\uce68 \\uac00\\ub798 \\uac1d\\ud608\\uacfc \\uac19\\uc740 \\uc228 \\uc26c\\ub294 \\uacf3\\uc5d0 \\uad00\\ud55c \\uc99d\\uc0c1\\uc774 \\uc788\\uc73c\\uc2e4\\uae4c\\uc694? C: \\uc544\\ub2c8\\uc694. \\uac00\\ub054 \\uae30\\uce68\\ud560 \\ub54c\\ub3c4 \\uc788\\ub294\\ub370 \\ucef9\\ucef9\\uac70\\ub9ac\\ub294 \\uc18c\\ub9ac\\uac00 \\ub098\\uc694. A: \\ub124 \\ud639\\uc2dc \\uc544\\uc774 \\uc2dc\\ub825\\uc774\\ub098 \\uccad\\ub825 \\ub458\\ub2e4 \\uad1c\\ucc2e\\ub098\\uc694? C: \\ub124\\ub124. A: \\uc9c0\\uae08 \\uac00\\uc871\\ubd84\\ub4e4 \\ub2e4 \\uac19\\uc774 \\uc0b4\\uace0 \\uacc4\\uc2dc\\ub294\\uac00\\uc694? C: \\ub124. A: \\ub124. \\uc77c\\ub2e8 \\uc9c8\\ubb38\\ub4dc\\ub9b4\\uaebc\\ub294 \\ud06c\\uac8c \\ub2e4 \\ub05d\\ub0ac\\uace0\\uc694</th>\n",
              "      <th>\\ud639\\uc2dc\\ub098 \\ud1f4\\uc6d0\\ud558\\uc2e4 \\ub54c \\ud544\\uc694\\ud55c \\uc11c\\ub958\\ub294 \\ubbf8\\ub9ac \\ub9d0\\uc500\\ud574\\uc8fc\\uc154\\uc57c \\ubc1c\\uae09\\uac00\\ub2a5\\ud558\\uc2dc\\ub2c8\\uae4c \\ud3b8\\ud560 \\ub54c \\ub9d0\\uc500\\ud574 \\uc8fc\\uc138\\uc694. C: \\ub124. A: \\uadf8\\ub9ac\\uace0 \\uad81\\uae08\\ud558\\uc2e0\\uac70 \\uc788\\uc73c\\uba74 \\uc5b8\\uc81c\\ub4e0\\uc9c0 \\ubc14\\ub85c\\ubc14\\ub85c \\ubb3c\\uc5b4\\ubcf4\\uc138\\uc694. A: \\uc544\\ub294\\ub370\\ub85c \\ub300\\ub2f5\\ud574\\ub4dc\\ub9b4\\uac8c\\uc694. C: \\uc774 \\uc9c4\\ub2e8\\uba85\\uc774 \\ubb50\\uc600\\uc8e0? A: \\uae09\\uc131 \\ud6c4\\ub450\\uac1c\\uc5fc\\uc774 \\uc758\\uc2ec\\ub41c\\ub2e4\\uace0 \\ud574\\uc694. A: \\uac11\\uc790\\uae30 \\ud6c4\\ub450\\uac00 \\ubd80\\uc5b4\\uc11c \\ub9d0\\ub3c4 \\uc798 \\ubabb\\ud558\\ub294\\uac70\\uace0\\uc694. C: \\uc55e\\uc73c\\ub85c \\uce58\\ub8cc\\ub294 \\uc5b4\\ub5bb\\uac8c \\ud574\\uc57c\\ud558\\ub098\\uc694. C: \\uadf8\\ub0e5 \\uc218\\uc561\\ub9de\\uace0 \\uc57d\\uba39\\uc73c\\uba74 \\uc798\\ub0ab\\ub098\\uc694? A: \\uc77c\\ub2e8 \\uc138\\uade0\\ubc30\\uc591\\uac80\\uc0ac \\uacb0\\uacfc\\uc5d0 \\ub530\\ub77c\\uc11c \\uc870\\uae08 \\ub2e4\\ub978\\ub370\\uc694. A: \\uc77c\\ub2e8\\uc740 \\uade0\\uac80\\uc0ac\\ud558\\uace0 \\ubc14\\ub85c \\ud56d\\uc0dd\\uc81c\\ubd80\\ud130 \\ud22c\\uc5ec\\ud560\\uaebc\\uace0\\uc694</th>\n",
              "      <th>\\ub9cc\\uc57d \\uc138\\uade0\\uc131\\uc77c \\uacbd\\uc6b0 \\ud558\\ub8e8\\uc5d0\\uc11c 3\\uc77c\\uc815\\ub3c4\\uba74 \\ud6c4\\ub450\\ubd80\\uc885\\uc774 \\uac00\\ub77c\\uc549\\uc744\\uac70\\uc5d0\\uc694. A: \\uadf8\\ub7ec\\uba74 \\uae30\\uad00 \\uc0bd\\uad00\\uc774\\ub098 \\uae30\\uad00\\uc808\\uc7ac\\uc220\\uc744 \\ud560 \\ud544\\uc694\\ub3c4 \\uc5c6\\uc73c\\uc2e4\\uac70\\uace0\\uc694. C: \\ub2e4\\ub978\\uac8c \\ub098\\uc624\\uba74\\uc694? A: \\ub9cc\\uc57d \\ud5e4\\ubaa8\\ud544\\ub8e8\\uc2a4 \\uc778\\ud50c\\ub8e8\\uc5d4\\uc790\\ub85c \\uc778\\ud55c \\ud6c4\\ub450\\uac1c\\uc5fc\\uc77c \\uacbd\\uc6b0 \\uae30\\uad00\\ub0b4\\uc5d0 \\uad00\\uc744 \\ub123\\uace0 \\uc9c0\\ucf1c\\ubcf4\\uae30\\ub3c4 \\ud558\\ub294\\ub370\\uc694</th>\n",
              "      <th>\\ub9cc\\uc57d \\uc2ec\\ud574\\uc9c0\\uac70\\ub098\\ud558\\uba74 \\uae30\\uad00\\uc808\\uac1c\\uc220\\uc744 \\ud558\\ub294\\uacbd\\uc6b0\\ub3c4 \\uc885\\uc885 \\uc788\\uc5b4\\uc694. C: \\uc544. \\uc81c\\uac00 \\uc544\\uc774\\ud55c\\ud14c \\ud574\\uc904\\uc218 \\uc788\\ub294\\uac70\\ub294 \\uc5c6\\ub098\\uc694? A: \\uc544\\uc774\\uac00 \\ud3b8\\uc548\\ud558\\uac8c \\uc228\\uc274\\uc218\\uc788\\ub3c4\\ub85d \\uc549\\uc740\\uc790\\uc138\\ub85c \\ud3b8\\ud558\\uac8c \\ub450\\uc2dc\\uace0\\uc694</th>\n",
              "      <th>\\ud638\\ud761\\uc774\\ub098 \\uae30\\ub3c4\\uac00 \\uac11\\uc790\\uae30 \\ub9c9\\ud788\\uac70\\ub098 \\ud560 \\uc218 \\uc788\\uc73c\\ub2c8 \\uc798 \\uad00\\ucc30\\ud574 \\uc8fc\\uc2dc\\uba74 \\uac10\\uc0ac\\ud558\\uaca0\\uc2b5\\ub2c8\\ub2e4. A: \\ud639\\uc2dc \\ubb34\\uc2a8\\uc77c \\uc0dd\\uae30\\uac70\\ub098 \\ud558\\uba74 \\ubc14\\ub85c \\uc606\\uc5d0 \\ucf5c\\ubca8\\uc744 \\ub20c\\ub7ec\\uc8fc\\uc2dc\\uace0\\uc694. C: \\uc544. \\ub124. A: \\ub124 \\uadf8\\ub7ec\\uba74 \\ubc14\\ub85c \\uae08\\ubc29 \\uc62c\\uac8c\\uc694</th>\n",
              "      <th>\\uade0\\uac80\\uc0ac\\ud560\\uac70\\ub791 \\ud56d\\uc0dd\\uc81c \\ucc98\\ubc29\\ub0ac\\ub294\\uc9c0 \\ud655\\uc778\\ud574\\uc57c\\ud574\\uc11c\\uc694</th>\n",
              "      <th>\\uc7a0\\uc2dc\\ub9cc \\uc26c\\uace0 \\uacc4\\uc138\\uc694. C: \\ub124.\"}]</th>\n",
              "      <th>\"title\": \"./train/KMB_28_210115_H.txt\"}]}</th>\n",
              "    </tr>\n",
              "  </thead>\n",
              "  <tbody>\n",
              "  </tbody>\n",
              "</table>\n",
              "<p>0 rows × 18652 columns</p>\n",
              "</div>"
            ],
            "text/plain": [
              "Empty DataFrame\n",
              "Columns: [{\"version\": \"MedQuAD_v1.0_train\",  \"data\": [{\"paragraphs\": [{\"qas\": [{\"answers\": [{\"text\": \"A: \\ucd5c\\uadfc \\uc0bc \\uac1c\\uc6d4 \\uc774\\ub0b4\\uc5d0 \\uc785\\uc6d0\\uc774\\ub098 \\uc218\\uc220\\ud558\\uc2e0 \\uc801 \\uc788\\uc73c\\uc2e0\\uac00\\uc694? B: \\uc544\\ub2c8\\uc694.\",  \"answer_start\": 4163}],  \"id\": \"1@20KMB_23_210115_H.txt\",  \"question\": \"\\uc785\\uc6d0/\\uc218\\uc220/\\uce58\\ub8cc \\uacbd\\ud5d8 \\ud655\\uc778\"},  {\"answers\": [{\"text\": \"A: \\ud761\\uc5f0\\ud558\\uc2dc\\ub098\\uc694? B: \\ub124 \\ud558\\uc8e0.\",  \"answer_start\": 4205}],  \"id\": \"2@26KMB_23_210115_H.txt\",  \"question\": \"\\ud761\\uc5f0 \\uc5ec\\ubd80\"},  {\"answers\": [{\"text\": \"A: \\uc74c\\uc8fc\\ub294 \\ud558\\uc138\\uc694? B: \\uadf8\\ub7fc \\ud558\\uc9c0.\",  \"answer_start\": 4463}],  \"id\": \"3@27KMB_23_210115_H.txt\",  \"question\": \"\\ud3c9\\uc18c \\uc74c\\uc8fc \\uc5ec\\ubd80\"},  {\"answers\": [{\"text\": \"A: \\uc9c0\\uae08 \\uc5b4\\ub514\\uac00 \\uc81c\\uc77c \\ubd88\\ud3b8\\ud558\\uc138\\uc694? B: \\uc5ec\\uae30 \\uac00\\uc2b4 \\uc544\\ub798 \\ubd80\\ubd84. B: \\ubb50\\ub77c \\ud558\\ub354\\ub77c? \\uc544 \\uba85\\uce58 \\uc548\\ucabd\\uc774 \\uc4f0\\ub824\\uc694.\",  \"answer_start\": 4617}],  \"id\": \"4@17KMB_23_210115_H.txt\",  \"question\": \"\\ud1b5\\uc99d \\ubd80\\uc704\"},  {\"answers\": [{\"text\": \"A: \\uc5b8\\uc81c\\ubd80\\ud130 \\uc544\\ud504\\uc168\\uc5b4\\uc694? B: \\ubab0\\ub77c\\uc694. B: \\uc4f0\\ub9b0 \\uac70\\ub294 \\ucd5c\\uadfc\\uc5d0\\uc57c \\uc2dc\\uc791\\ud588\\ub294\\ub370.\",  \"answer_start\": 4707}],  \"id\": \"5@2KMB_23_210115_H.txt\",  \"question\": \"\\uc8fc \\uc99d\\uc0c1 \\ubc1c\\uc0dd \\uae30\\uac04 \\ud655\\uc778\"},  {\"answers\": [{\"text\": \"A: \\uc77c \\uc810\\uc774 \\uac00\\uc7a5 \\uc57d\\ud55c \\ud1b5\\uc99d\\uc774\\uace0 \\uc2ed \\uc810\\uc774 \\uac00\\uc7a5 \\uac15\\ud55c \\ud1b5\\uc99d\\uc77c \\ub54c \\uba87 \\uc810 \\uc815\\ub3c4 \\ub418\\uc2dc\\ub294\\uac00\\uc694? B: \\uadfc\\ub370 \\uc774\\uac8c \\uacc4\\uc18d \\uc544\\ud508 \\uac8c \\uc544\\ub2c8\\ub77c \\ubb50 \\uba39\\uc73c\\uba74 \\uad1c\\ucc2e\\uc544\\uc9c0\\uace0 \\uadf8\\ub7ec\\ub2e4\\uac00 \\ub610 \\uc5bc\\ub9c8 \\uc548 \\uac00\\uc11c \\uc4f0\\ub77c\\ub9ac\\uace0 \\uadf8\\ub798\\uc694.\",  \"answer_start\": 4884}],  \"id\": \"6@18KMB_23_210115_H.txt\",  \"question\": \"\\ud1b5\\uc99d \\uac15\\ub3c4\"},  {\"answers\": [{\"text\": \"A: \\uace0\\ud608\\uc555,  \\ub2f9\\ub1e8,  \\uacb0\\ud575,  \\uac04\\uc5fc\\uacfc \\uac19\\uc740 \\ub9cc\\uc131 \\uc9c8\\ud658 \\uc553\\uace0 \\uacc4\\uc2e0 \\uac70 \\uc788\\uc73c\\uc138\\uc694? B: \\uc5c6\\uc2b5\\ub2c8\\ub2e4.\",  \"answer_start\": 5088}],  \"id\": \"7@22KMB_23_210115_H.txt\",  \"question\": \"\\ubcf4\\uc720 \\uc9c8\\ubcd1 \\ud655\\uc778\"},  {\"answers\": [{\"text\": \"A: \\ucd5c\\uadfc\\uc5d0 \\ubcf5\\uc6a9\\ud558\\uace0 \\uacc4\\uc2e0 \\uc57d\\ubb3c \\uc788\\uc73c\\uc2e0\\uac00\\uc694? B: \\uc57d\\uad6d\\uc5d0\\uc11c \\ubc1b\\uc740 \\uc57d\\ub3c4 \\ub9d0\\ud574\\uc57c \\ud574\\uc694?\",  \"answer_start\": 5173}],  \"id\": \"8@21KMB_23_210115_H.txt\",  \"question\": \"\\ud604\\uc7ac \\ubcf5\\uc6a9 \\uc57d \\uc5ec\\ubd80\"},  {\"answers\": [{\"text\": \"A: \\uc544\\uae4c \\ubab8\\ubb34\\uac8c \\uc7c0\\ub294\\ub370 \\uadf8 \\uc804\\uc774\\ub791 \\ube44\\uad50\\ud558\\uba74\\uc694? B: \\uc74c. \\uc798 \\uae30\\uc5b5\\uc740 \\uc548 \\ub098\\ub294\\ub370 \\ub9c8\\uc9c0\\ub9c9\\uc5d0 \\uc7c0\\uc744 \\ub54c\\ubcf4\\ub2e4 \\uc870\\uae08 \\ucc10 \\uac70 \\uac19\\uc544\\uc694. B: \\uc0ac \\ud0ac\\ub85c\\uadf8\\ub7a8 \\uc815\\ub3c4?\",  \"answer_start\": 5689}],  \"id\": \"9@14KMB_23_210115_H.txt\",  \"question\": \"\\uccb4\\uc911\\ubcc0\\ud654 \\ud655\\uc778\"},  {\"answers\": [{\"text\": \"A: \\ud558\\ub8e8\\uc5d0 \\ubcf4\\ud1b5 \\uba87 \\uc2dc\\uac04 \\uc815\\ub3c4 \\uc8fc\\ubb34\\uc138\\uc694? B: \\uc911\\uac04\\uc5d0 \\uae68\\ub294 \\uac70 \\ube7c\\uba74 \\uc5ec\\uc12f \\uc2dc\\uac04 \\uc815\\ub3c4\\uc694.\",  \"answer_start\": 5832}],  \"id\": \"10@29KMB_23_210115_H.txt\",  \"question\": \"\\ud558\\ub8e8 \\ud3c9\\uade0 \\uc218\\uba74 \\uc2dc\\uac04 \\ud655\\uc778\"},  {\"answers\": [{\"text\": \"A: \\ud639\\uc2dc \\uc5b4\\uc9c0\\ub7fd\\uac70\\ub098 \\ube48\\ud608 \\uc99d\\uc0c1 \\uc788\\uc73c\\uc2e0\\uac00\\uc694? B: \\uc544\\ub2c8\\uc694 \\uadf8\\ub7f0 \\uac70\\ub294 \\uc5c6\\uc5b4\\uc694.\",  \"answer_start\": 6119}],  \"id\": \"11@8KMB_23_210115_H.txt\",  \"question\": \"\\ud604\\uae30\\uc99d \\uc720\\ubb34 \\ud655\\uc778\"},  {\"answers\": [{\"text\": \"A: \\uae30\\uce68,  \\uac00\\ub798,  \\ucf67\\ubb3c\\uacfc \\uac19\\uc740 \\uac10\\uae30 \\uac19\\uc740 \\uc99d\\uc0c1\\ub3c4 \\uc5c6\\uc73c\\uc2dc\\uace0\\uc694? B: \\ub124\\ub124 \\uc5c6\\uc5b4\\uc694.\",  \"answer_start\": 6346}],  \"id\": \"12@6KMB_23_210115_H.txt\",  \"question\": \"\\ud638\\ud761\\uae30 \\uc99d\\uc0c1 \\uc720\\ubb34 \\ud655\\uc778\"},  {\"answers\": [{\"text\": \"A: \\uc2dc\\ub825\\uc774 \\uc548 \\uc88b\\uc544\\uc11c \\uc7a5\\uc560 \\ub4f1\\uae09\\uc744 \\ubc1b\\uc744 \\uc815\\ub3c4\\uc778\\uac00\\uc694? B: \\uc544\\ub2c8\\uc694.\",  \"answer_start\": 6392}],  \"id\": \"13@12KMB_23_210115_H.txt\",  \"question\": \"\\uc2dc\\ub825 \\uc99d\\uc0c1 \\ud655\\uc778\"},  {\"answers\": [{\"text\": \"A: \\uccad\\ub825\\uc774 \\uc548 \\uc88b\\uc544\\uc11c \\uc7a5\\uc560 \\ub4f1\\uae09\\uc744 \\ubc1b\\uac70\\ub098 \\ucd5c\\uadfc \\uc790\\uc8fc \\uc774\\uba85\\uc774 \\ub4e4\\ub9ac\\uc2dc\\ub098\\uc694? B: \\uc544\\ub2c8\\uc694.\",  \"answer_start\": 6430}],  \"id\": \"14@13KMB_23_210115_H.txt\",  \"question\": \"\\uccad\\ub825 \\uc99d\\uc0c1 \\ud655\\uc778\"},  {\"answers\": [{\"text\": \"A: \\uac11\\uc790\\uae30 \\uc800\\ub9b0\\ub2e4\\uac70\\ub098 \\ubb34\\uac10\\uac01\\ud574\\uc9c0\\ub294 \\ubd80\\uc704 \\uc788\\uc73c\\uc2e4\\uae4c\\uc694? B: \\uc544\\ub2c8\\uc694.\",  \"answer_start\": 6516}],  \"id\": \"15@9KMB_23_210115_H.txt\",  \"question\": \"\\uc2e0\\uacbd\\uacc4 \\uc99d\\uc0c1 \\uc720\\ubb34 \\ud655\\uc778\"},  {\"answers\": [{\"text\": \"A: \\ud639\\uc2dc \\uc8fc\\uc704 \\uce5c\\uac00 \\uc911\\uc5d0 \\uace0\\ud608\\uc555\\uc774\\ub098 \\ub2f9\\ub1e8,  \\uacb0\\ud575.1,  \\uac04 \\uc9c8\\ud658,  \\uc885\\uc591\\uacfc \\uac19\\uc740 \\ub9cc\\uc131 \\uc720\\uc804\\uc131 \\uc9c8\\ud658 \\uc553\\uace0 \\uacc4\\uc2e0 \\ubd84 \\uc788\\uc73c\\uc2e0\\uac00\\uc694? B: \\uc544\\ub2c8\\uc694.\",  \"answer_start\": 6576}],  \"id\": \"16@19KMB_23_210115_H.txt\",  \"question\": \"\\uac00\\uc871 \\uc911 \\ubcd1\\ub825 \\uc720\\ubb34 \\ud655\\uc778\"}],  \"context\": \"A: \\uc548\\ub155\\ud558\\uc138\\uc694. A: \\ud639\\uc2dc \\uc785\\uc6d0\\ud558\\ub7ec \\uc624\\uc168\\ub098\\uc694? B: \\ub124. \\uc5ec\\uae30\\uc694. A: \\ub124. A: 000\\ub2d8 \\uae30\\ub2e4\\ub9ac\\uace0 \\uc788\\uc5c8\\uc5b4\\uc694. A: \\uc5bc\\ub978 \\ud0a4\\uc640 \\ubab8\\ubb34\\uac8c\\ubd80\\ud130 \\uc7ac\\uace0 \\ubcd1\\uc2e4 \\uc548\\ub0b4\\ud574\\ub4dc\\ub9ac\\uaca0\\uc2b5\\ub2c8\\ub2e4. B: \\ub124. A: \\uc5ec\\uae30 \\uc62c\\ub77c\\uac00 \\ubcf4\\uc2dc\\uaca0\\uc5b4\\uc694? B: \\uc9d0\\uc740. A: \\uc544 \\uc9d0\\uc740 \\uc606 \\uc758\\uc790\\uc5d0 \\ub450\\uc2dc\\uba74 \\ub420\\uac83\\uac19\\uc544\\uc694. B: \\ub124. A: \\ub124 \\ub418\\uc168\\uc2b5\\ub2c8\\ub2e4. A: \\ub0b4\\ub824\\uc624\\uc138\\uc694. B: \\ub124. A: \\uadf8\\ub7ec\\uba74 \\uc774\\uc81c \\ubcd1\\uc2e4 \\uc548\\ub0b4\\ud574\\ub4dc\\ub9b4\\uac74\\ub370 \\uadf8\\uc804\\uc5d0 \\ud658\\uc790\\ud314\\ucc0c \\ucc44\\uc6cc\\ub4dc\\ub9b4\\uac8c\\uc694. A: \\uc55e\\uc73c\\ub85c \\uc8fc\\uc0ac\\ub098 \\uc57d \\ud22c\\uc5ec\\ud560 \\ub54c \\uaf2d \\ud655\\uc778\\ud574\\uc57c\\ud558\\ub2c8\\uae4c \\ube7c\\uac70\\ub098 \\uc783\\uc5b4 \\ubc84\\ub9ac\\uba74 \\ub9d0\\uc500\\ud574\\uc8fc\\uc138\\uc694. B: \\ub124. A: \\ud658\\uc790\\ubd84 \\uc131\\ud568\\ub3c4 \\uacc4\\uc18d \\ubb3c\\uc5b4\\ubcfc\\ud150\\ub370 \\uc815\\ud655\\ud55c \\ud658\\uc790 \\ubc0f \\uc57d\\ubb3c \\ud22c\\uc5ec\\ub97c \\ud655\\uc778\\ud558\\uae30 \\uc704\\ud574 \\ud558\\ub294 \\ud544\\uc694\\ud55c \\uc808\\ucc28\\uc774\\ub2c8\\uae4c \\ud611\\uc870 \\uc798 \\ubd80\\ud0c1\\ub4dc\\ub9b4\\uac8c\\uc694! B: \\ub124\\ub124. A: \\uadf8\\ub7ec\\uba74 \\uc131\\ud568\\uc774\\ub791 \\uc0dd\\ub144\\uc6d4\\uc77c \\ub9d0\\uc500\\ud574\\uc8fc\\uc2dc\\uaca0\\uc5b4\\uc694? B: \\ub124. 000,  00\\ub144 00\\uc6d4 00\\uc77c. A: \\ub124 000\\ub2d8 \\ud314\\ucc0c \\ub9e4\\ub4dc\\ub9b4\\uac8c\\uc694. A: \\ub418\\uc168\\uc2b5\\ub2c8\\ub2e4. A: \\ubcd1\\uc2e4 \\uc548\\ub0b4\\ud574\\ub4dc\\ub9b4\\uac8c\\uc694 \\uc774\\ucabd\\uc73c\\ub85c \\ub530\\ub77c\\uc640 \\uc8fc\\uc138\\uc694. B: \\ub124. A: \\ub124 \\uc5ec\\uae30\\uc785\\ub2c8\\ub2e4. A: \\uc5b4\\uc81c \\ub2e4 \\ud1f4\\uc6d0\\ud558\\uc154\\uc11c \\uc9c0\\uae08\\uc740 \\uc790\\ub9ac\\uac00 \\ub2e4 \\ube44\\uc6cc\\uc838 \\uc788\\uc5b4\\uc694~ \\ud3b8\\ud558\\uc2e0 \\uc790\\ub9ac\\uc5d0 \\uc549\\uc544 \\uc8fc\\uc2dc\\uaca0\\uc5b4\\uc694? B: \\ub124. \\uc5ec\\uae30\\ub85c \\ud560\\uac8c\\uc694. A: \\ub124 \\ub098\\uc911\\uc5d0 \\uc790\\ub9ac \\ubc14\\uafb8\\uae30 \\ud798\\ub4e4\\ub2e4\\ub294 \\uc810 \\ubbf8\\ub9ac \\ub9d0\\uc500\\ub4dc\\ub9ac\\uace0\\uc694~ \\uc77c\\ub2e8\\uc740 \\ud658\\uc758\\ub85c \\uac08\\uc544\\uc785\\uc73c\\uc2dc\\uace0 \\uc9d0 \\uc815\\ub9ac\\ud558\\uace0 \\uacc4\\uc2dc\\uba74 \\ub2e4\\uc2dc\\uc640\\uc11c \\ud608\\uc555\\uc774\\ub791 \\uccb4\\uc628\\ub3c4 \\uc7ac\\uace0,  \\ud658\\uc790\\ubd84\\uc758 \\uc815\\ud655\\ud55c \\uc0c1\\ud0dc\\ud30c\\uc545\\uc744 \\uc704\\ud574 \\uba87\\uac00\\uc9c0 \\ubb3c\\uc5b4\\ubcfc\\uac70\\uc5d0\\uc694. B: \\ub124\\ub124. B: \\uc774\\uac70\\ub294 \\uc81c\\uac00 \\uc0ac\\uc6a9\\ud574\\ub3c4 \\ub418\\ub294\\uac70\\ub9de\\uc8e0? A: \\ub124\\ub124 \\uc5f4\\uba74 \\uadf8\\ub0e5 \\uc5f4\\ub9b4\\uaebc\\uc5d0\\uc694 \\ud3b8\\ud558\\uac8c \\uc0ac\\uc6a9\\ud558\\uba74 \\ub418\\uc138\\uc694. A: \\uc9c0\\uae08 \\ube44\\ubc00\\ubc88\\ud638\\uac00 \\ucd08\\uae30\\ud654\\ub418\\uc11c \\uc0fe\\ubc84\\ud2bc \\ub204\\ub974\\uc2dc\\uace0 \\ud3b8\\ud558\\uc2e0 \\ubc88\\ud638 4\\uc790\\ub9ac \\uc785\\ub825\\ud558\\uc2dc\\uba74 \\ub418\\uc138\\uc694. B: \\uc544 \\ub124. A: \\ub124 \\uadf8\\ub7ec\\uba74 \\uc774\\ub530\\uac00 \\ub2e4\\uc2dc \\uc624\\uaca0\\uc2b5\\ub2c8\\ub2e4. A: \\ucee4\\ud2bc \\uce58\\uace0 \\uac08\\uac8c\\uc694. B: \\ub124. A: \\ud658\\uc790\\ubd84~ B: \\ub124. A: \\uc637 \\ub2e4 \\uac08\\uc544\\uc785\\uc73c\\uc168\\uc73c\\uba74 \\ub4e4\\uc5b4\\uac08\\uac8c\\uc694. B: \\ub124. A: \\uadf8\\ub7ec\\uba74 \\uc774\\uc81c \\ud608\\uc555\\ubd80\\ud130 \\uc7ac\\uaca0\\uc2b5\\ub2c8\\ub2e4. A: \\ud3b8\\ud558\\uac8c \\ub204\\uc6cc\\uacc4\\uc154\\ub3c4 \\ub418\\uc138\\uc694. A: \\ud314\\ub9cc \\ud3b8\\ud558\\uac8c \\ub0b4\\ub824\\uc8fc\\uc138\\uc694. B: \\ub124. A: \\ub124 \\uac10\\uc0ac\\ud569\\ub2c8\\ub2e4. A: \\ud608\\uc555\\uc740 108\\uc5d0 68,  \\ub9e5\\ubc15\\uc740 94\\ud68c\\uc774\\uc2dc\\ub124\\uc694. A: \\uccb4\\uc628\\uc740 \\uc815\\uc0c1\\uc774\\uc5d0\\uc694. B: \\uba87\\ub3c4\\uc5d0\\uc694? A: 36.7\\ub3c4 \\uc785\\ub2c8\\ub2e4. B: \\ub124. A: \\uc774\\uc81c \\ubcd1\\uc6d0\\ub0b4 \\uc2dc\\uc124 \\ubc0f \\ubcd1\\ub3d9\\uc548\\ub0b4\\ub97c \\ud574\\ub4dc\\ub9ac\\uaca0\\uc2b5\\ub2c8\\ub2e4. A: \\ud604\\uc7ac \\uc774\\uacf3\\uc740 \\ubcf8\\uad00 8\\uce35 \\uc18c\\ud654\\uae30\\ub0b4\\uacfc \\ubcd1\\ub3d9\\uc774\\uace0\\uc694. A: \\uc9c0\\uae08 \\uc788\\ub294 \\ubcd1\\uc2e4\\uc740 4\\uc778\\uc2e4\\uc785\\ub2c8\\ub2e4. A: \\uc5ec\\uae30\\uc11c \\uac00\\uae4c\\uc6b4 \\ube44\\uc0c1\\uad6c \\uc704\\uce58\\ub294 \\ub098\\uac00\\uc11c. A: \\uc74c \\ubcd1\\ub3d9\\uc744 \\uac19\\uc774 \\ud55c\\ubc88 \\ub3cc\\uae4c\\uc694? \\uadf8\\uac8c \\uc774\\ud574\\ud558\\uae30 \\ud3b8\\ud558\\uc2e4\\uaebc\\uac19\\uc544\\uc694. B: \\ub124\\ub124 \\ud3b8\\ud558\\uc2e0\\ub370\\ub85c\\ud558\\uc138\\uc694. A: \\ub124 \\uadf8\\ub7ec\\uba74 \\uc800\\ub97c \\ub530\\ub77c\\uc640 \\uc8fc\\uc138\\uc694. A: \\uac00\\uba74\\uc11c \\uc124\\uba85\\ub4dc\\ub9ac\\uaca0\\uc2b5\\ub2c8\\ub2e4. B: \\ub124. A: \\ubcd1\\uc2e4\\uc5d0\\uc11c \\ub098\\uc640\\uc11c \\uc67c\\ucabd\\uc73c\\ub85c \\uac00\\uc2dc\\uba74 \\ub05d\\uc5d0 \\uc720\\ub9ac\\ubb38 \\ubcf4\\uc774\\uc2dc\\uc8e0? A: \\uc800\\uac83\\uc774 \\ube44\\uc0c1\\uad6c\\uace0\\uc694,  \\uc5ec\\uae30\\ub9d0\\uace0\\ub3c4 \\uc62c\\ub77c\\uc624\\uc2e0 \\uc5d8\\ub9ac\\ubca0\\uc774\\ud130 \\ub4a4\\uc5d0 \\uacc4\\ub2e8\\uc774 \\ub610 \\uc788\\uc5b4\\uc694,  \\uac70\\uae30\\ub3c4 \\ube44\\uc0c1\\uad6c\\ub85c \\uc0ac\\uc6a9\\ud569\\ub2c8\\ub2e4. B: \\ub124\\ub124. A: \\ub124 \\uadf8\\ub9ac\\uace0 \\uc774\\ucabd\\uc73c\\ub85c \\uc880 \\ub354 \\uac00\\uba74 \\ubc30\\uc120\\uc2e4\\uc774 \\uc788\\ub294\\ub370 \\ud3b8\\ud558\\uac8c \\ud734\\uac8c\\uc2e4\\ub85c \\uc0dd\\uac01\\ud558\\uc2dc\\uba74\\ub429\\ub2c8\\ub2e4. A: \\uc548\\uc5d0 \\ubcf4\\uc2dc\\ub2e4\\uc2dc\\ud53c \\ud2f0\\ube44,  \\uc815\\uc218\\uae30,  \\uc804\\uc790\\ub808\\uc778\\uc9c0,  \\uc1fc\\ud30c \\ub4f1\\uc774 \\uc788\\ub294\\uac70 \\ubcf4\\uc774\\uc2dc\\uc8e0? B: \\ub124\\ub124. \\uc5ec\\uae30\\uc11c \\uc26c\\uba74 \\ub418\\uaca0\\ub124\\uc694. A: \\ub124 \\ud3b8\\ud558\\uac8c \\uc774\\uc6a9\\ud558\\uc2dc\\uba74 \\ub418\\uc2dc\\ub294\\ub370 \\ud68c\\uc9c4\\uc2dc\\uac04\\uc77c\\ub54c\\ub294 \\uc790\\ub9ac\\uc5d0 \\uacc4\\uc154\\uc8fc\\uc154\\uc57c \\ud558\\uc138\\uc694. B: \\ud68c\\uc9c4\\uc2dc\\uac04\\uc774 \\uba87\\uc2dc\\uc778\\ub370\\uc694? A: \\ud658\\uc790\\ubd84\\uc758 \\uc8fc\\uce58\\uc758\\uac00 \\uc544 \\uad50\\uc218\\ub2d8\\uc740 \\uc544\\uce68\\uc77c\\ucc0d \\uc624\\uc2dc\\uac70\\ub4e0\\uc694? A: \\uc544\\uce68 \\uc2dd\\uc0ac \\ud558\\uc2dc\\uace0 \\ub098\\uc11c 20~30\\ubd84 \\uc815\\ub3c4\\ub9cc \\uae30\\ub2e4\\ub9ac\\uc2dc\\uba74 \\uae08\\ubc29 \\uc624\\uc2e4\\uac70\\uc5d0\\uc694. B: \\ub124. \\uc544\\uce68\\uc740 \\uba87\\uc2dc\\uc5d0\\uc694? B: \\uc81c\\uac00 \\ubb58 \\uc548\\uba39\\uc73c\\uba74 \\uc544\\ud30c\\uc11c. A: \\ub124 \\uc544\\uce68\\uc740 \\ubcf4\\ud1b5 7\\uc2dc 40\\ubd84\\uc5d0\\uc11c 50\\ubd84 \\uc0ac\\uc774\\uc5d0 \\uc62c\\ub77c\\uc635\\ub2c8\\ub2e4. A: \\uc870\\uae08 \\uc2dc\\uac04\\uc774 \\ub354\\uac78\\ub9b4 \\uc218\\ub3c4 \\uc788\\uace0\\uc694. B: \\ub124. A: \\uc544 \\uadf8\\ub9ac\\uace0 \\uad50\\uc218\\ub2d8\\ub3c4 \\uac00\\ub054 \\ud68c\\uc9c4 \\ub3c4\\uc2dc\\uc9c0 \\uc54a\\ub294 \\ub0a0\\uc774 \\uc788\\ub294\\ub370\\uc694,  \\ubcf4\\ud1b5 \\uc218\\uc220\\uc774 \\uc7a1\\ud788\\uac70\\ub098 \\ud558\\uba74 \\ubabb\\uc624\\uc2dc\\uac70\\ub4e0\\uc694. A: \\uc544\\uce68 \\uc2dd\\uc0ac\\ud558\\uc2dc\\uace0 30\\ubd84\\uc815\\ub3c4 \\uae30\\ub2e4\\ub824\\ub3c4 \\uc548\\uc628\\ub2e4 \\ud558\\uba74,  \\uc624\\ud6c4\\uc5d0 \\uc628\\ub2e4\\uace0 \\uc0dd\\uac01\\ud558\\uc2dc\\uba74 \\ub418\\uc138\\uc694. B: \\uc544 \\uc624\\ud6c4\\uc5d0\\ub3c4 \\uc640\\uc694? A: \\uc624\\uc804\\uc5d0 \\ubabb\\uc624\\uc2dc\\uba74 \\uc624\\ud6c4\\uc5d0\\ub77c\\ub3c4 \\uc624\\uc138\\uc694. A: \\uc804\\ub0a0 \\ub2f9\\uc9c1\\ub9cc \\uc544\\ub2c8\\uc2dc\\uba74\\uc694. B: \\ub124,  \\uacc4\\uc18d \\uc790\\ub9ac\\uc5d0 \\uc788\\uc5b4\\uc57c\\uaca0\\ub124. A: \\ud3b8\\ud558\\uc2e0\\ub370\\ub85c\\ud558\\uc138\\uc694. A: \\uc774\\uc81c \\ubc18\\ub300\\ub85c \\ub3cc\\uc544\\uac00\\uaca0\\uc2b5\\ub2c8\\ub2e4. A: \\uadf8\\ub7ec\\uba74 \\uc774\\uc5b4\\uc11c \\uc124\\uba85\\ub4dc\\ub9b4\\uac8c\\uc694. A: \\ubcd1\\ub3d9 \\uc911\\uc559\\uc5d0\\ub294 \\uac04\\ud638\\uc0ac \\uc2a4\\ud14c\\uc774\\uc158\\uc774 \\uc704\\uce58\\ud574\\uc788\\uace0\\uc694,  \\uac01 \\ubcf5\\ub3c4 \\ub05d,  \\uadf8\\ub9ac\\uace0 \\uc911\\uac04\\uc911\\uac04\\uc5d0 \\uac04\\ud638\\uc0ac\\ubcf4\\uc870\\uc2a4\\ud14c\\uc774\\uc158\\uc774 \\uc788\\uc5b4\\uc694. A: \\ud658\\uc790\\ubd84\\uc774 \\ubb54\\uac00 \\ud544\\uc694\\ud574\\uc11c \\uac04\\ud638\\uc0ac\\ub97c \\ucc3e\\uc744\\ub54c\\ub294 \\uadfc\\ucc98 \\uc2a4\\ud14c\\uc774\\uc158\\uc5d0 \\uc788\\ub294 \\uac04\\ud638\\uc0ac\\ub97c \\ubd80\\ub974\\uac70\\ub098 \\ud638\\ucd9c\\ubca8\\uc744 \\ub20c\\ub7ec\\uc8fc\\uc2dc\\uba74 \\ub429\\ub2c8\\ub2e4. A: \\uc774\\ub530\\uac00 \\ud638\\ucd9c\\ubca8 \\uc0ac\\uc6a9\\ubc95\\ub3c4 \\uc54c\\ub824\\ub4dc\\ub9b4\\uac8c\\uc694. B: \\uc544. \\ub124. A: \\uc77c\\ub2e8\\uc740 \\uc81c\\uac00 \\ud658\\uc790\\ubd84 \\ub2f4\\ub2f9\\uc774\\ub2c8\\uae4c \\ubb34\\uc2a8\\uc77c \\uc0dd\\uae30\\uba74 \\uc800\\ud55c\\ud14c \\ub9d0\\uc500\\ud574\\uc8fc\\uc2dc\\uba74 \\ub418\\uc138\\uc694. A: \\ub2e4\\ub978 \\ubd84\\ud55c\\ud14c \\ub9d0\\ud574\\ub3c4 \\uc798 \\ubaa8\\ub97c\\uac70\\uc5d0\\uc694. B: \\ub124. A: \\ubcd1\\uc2e4\\ub9c8\\ub2e4 \\uac01\\uac01 \\ud654\\uc7a5\\uc2e4\\uc774 \\uc788\\ub294\\ub370\\uc694,  \\uc5ec\\uae30\\uc5d0\\ub3c4 \\ud654\\uc7a5\\uc2e4\\uc774 \\uc788\\uc2b5\\ub2c8\\ub2e4. A: \\ud3b8\\ud558\\uc2e0 \\uacf3 \\uc0ac\\uc6a9\\ud558\\uc2dc\\uba74 \\ub418\\uc2dc\\uace0,  \\uc606\\uc5d0\\ub294 \\uc138\\ucc99\\uc2e4\\uc774 \\uc788\\ub294\\ub370 \\uc544\\ub9c8 \\ud658\\uc790\\ubd84\\uc740 \\uc0ac\\uc6a9\\ud558\\uc9c0 \\uc54a\\uc73c\\uc2e4 \\ud14c\\ub2c8 \\uc124\\uba85\\uc548\\ub4dc\\ub9ac\\uace0 \\ub118\\uc5b4\\uac00\\ub3c4\\ub85d\\ud560\\uac8c\\uc694. A: \\ub9c8\\uc9c0\\ub9c9\\uc73c\\ub85c \\uac08\\uc544\\uc785\\uace0\\ub09c \\ud658\\uc758\\ub97c \\ubc97\\uc5b4\\ub450\\ub294 \\uacf3\\uc774 \\uc5ec\\uae30 \\uc544\\ubb34\\ub7f0 \\ubb34\\ub2ac \\uc5c6\\ub294 \\ubb38\\uc744 \\uc5f4\\uba74 \\uc788\\uc2b5\\ub2c8\\ub2e4. A: \\uc548\\uc5d0 \\ubb38\\uc744 \\ub610 \\uc5f4\\uc5b4\\uc11c \\uadf8\\ub0e5 \\uc465\\ud558\\uace0 \\ub123\\uc73c\\uc2dc\\uba74 \\ub418\\uc138\\uc694. B: \\ub124. A: \\uadf8\\ub7ec\\uba74 \\uc774\\uc81c \\ubcd1\\uc2e4\\ub85c \\ub3cc\\uc544\\uac08\\uac8c\\uc694,  \\uadf8\\ub2e4\\uc74c \\ub9c8\\uc800 \\uc124\\uba85\\ub4dc\\ub9ac\\ub3c4\\ub85d \\ud558\\uaca0\\uc2b5\\ub2c8\\ub2e4. B: \\ub124. A: \\uc5ec\\uae30 \\uce68\\uc0c1\\uc704\\uc5d0 \\uc788\\ub294 \\ub3d9\\uadf8\\ub780\\ubca8\\uacfc \\uc804\\ud654\\uc904\\ucc98\\ub7fc \\uc774\\uc5b4\\uc9c4\\uac8c \\ud638\\ucd9c\\ubca8\\uc774\\uc5d0\\uc694. A: \\ud55c\\ubc88 \\ub204\\ub974\\uba74 \\uc911\\uc559\\uc2a4\\ud14c\\uc774\\uc158\\uc5d0\\uc11c \\uc6b8\\ub824\\uc11c \\uc804\\ud654\\ub97c \\ubc1b\\uac70\\ub098 \\uac04\\ud638\\uc0ac\\uac00 \\ub6f0\\uc5b4\\uc62c\\uaec0\\ub370,  \\uc798\\ubabb\\ub204\\ub974\\uc168\\ub2e4\\uba74 \\ud55c\\ubc88 \\ub354 \\ub204\\ub974\\uba74 \\ucde8\\uc18c\\uac00 \\ub429\\ub2c8\\ub2e4. B: \\ub124. A: \\uadf8\\ub9ac\\uace0 \\uce68\\uc0c1\\uc5d0\\ub294 \\ubc14\\ud034\\uac00 \\ub2ec\\ub824\\uc788\\uae30 \\ub54c\\ubb38\\uc5d0 \\ud798\\uc744 \\uc8fc\\uac70\\ub098 \\uae30\\ub300\\uba74 \\uac11\\uc790\\uae30 \\ubc00\\ub9b4\\uc218\\uac00 \\uc788\\uae30 \\ub54c\\ubb38\\uc5d0 \\uc870\\uc2ec\\ud574\\uc8fc\\uc2dc\\uae30\\ubc14\\ub78d\\ub2c8\\ub2e4. \\uadf8\\ub9ac\\uace0 \\uc8fc\\ubb34\\uc2e4\\ub54c\\ub098 \\uc26c\\uc2e4 \\ub54c \\ub4f1 \\uce68\\uc0c1\\uc704\\uc5d0\\uc11c \\uc26c\\uace0 \\uacc4\\uc2e4\\ub54c\\ub294 \\ud56d\\uc0c1 \\uce68\\uc0c1\\ub09c\\uac04\\uc744 \\uc62c\\ub824\\uc8fc\\uc154\\uc57c\\ud558\\ub294\\ub370\\uc694,  \\uc774\\ub807\\uac8c \\ub531 \\uc18c\\ub9ac\\uac00 \\ub0a0\\ub54c\\uae4c\\uc9c0 \\uc62c\\ub824\\uc8fc\\uc154\\uc57c \\uc81c\\ub300\\ub85c \\uc62c\\ub77c\\uac04\\uac81\\ub2c8\\ub2e4. B: \\ub124. A: \\ud639\\uc2dc\\ub098 \\ud654\\uc7a5\\uc2e4 \\ubc14\\ub2e5\\uc774 \\ubbf8\\ub044\\ub7ec\\uc6b8\\uc218 \\uc788\\uc73c\\ub2c8 \\uc0ac\\uc6a9\\ud558\\uc2e4 \\ub54c \\ubc14\\ub2e5\\uc774 \\uc816\\uc9c0\\ub294 \\uc54a\\uc544\\uc788\\ub294\\uc9c0 \\uc870\\uc2ec\\ud574\\uc8fc\\uc2dc\\uace0\\uc694,  \\ubcd1\\uc6d0\\ub0b4 \\uc804\\ubd80 \\uae08\\uc5f0 \\uad6c\\uc5ed\\uc785\\ub2c8\\ub2e4. A: \\ud761\\uc5f0\\uc740 \\uc785\\uc6d0\\uc911\\uc5d0\\ub294 \\ubabb\\ud558\\uc2dc\\uac8c \\ub418\\uc788\\uc5b4\\uc694,  \\ud2b9\\ud788 \\ud658\\uc790\\ubd84\\uc758 \\uacbd\\uc6b0 \\ud761\\uc5f0\\uc774 \\ub9e4\\uc6b0 \\uc548\\uc88b\\uae30 \\ub54c\\ubb38\\uc5d0 \\uaf2d \\uae08\\uc5f0\\ubd80\\ud0c1\\ub4dc\\ub9bd\\ub2c8\\ub2e4. B: \\ud761\\uc5f0\\ud588\\uc744\\ub54c \\ub098\\uc624\\ub294\\uac8c \\ub9c9 \\uc18c\\uc7a5\\uc744 \\uc790\\uadf9\\ud558\\ub294\\uac70\\uc5d0\\uc694? A: \\ud658\\uc790\\ubd84\\uc758 \\uacbd\\uc6b0\\uc5d0\\ub294 \\uc2ed\\uc774\\uc9c0\\uc7a5\\uc5d0 \\uada4\\uc591\\uc774 \\uc0dd\\uae34\\uac74\\ub370\\uc694,  \\ud761\\uc5f0\\ud588\\uc744\\ub54c \\ub098\\uc624\\ub294 \\uc720\\ud574\\ubb3c\\uc9c8\\ub4e4\\uc774 \\uc810\\ub9c9 \\uc138\\ud3ec\\uc758 \\uc7ac\\uc0dd\\uacfc \\uc810\\ub9c9\\uc544\\ub798\\uc5d0 \\ud608\\uc561\\uc21c\\ud658\\uae4c\\uc9c0 \\ubc29\\ud574\\ud558\\uae30 \\ub54c\\ubb38\\uc5d0 \\uce58\\ub8cc\\ub97c \\uc704\\ud574\\uc11c\\ub294 \\uae08\\uc5f0\\uc774 \\uaf2d \\ud544\\uc694\\ud569\\ub2c8\\ub2e4. B: \\ub124. A: \\uc77c\\ub2e8 \\uacc4\\uc18d \\ubcd1\\ub3d9\\uc124\\uba85\\ub4dc\\ub9ac\\ub3c4\\ub85d \\ud560\\uac8c\\uc694. A: \\ubcd1\\uc6d0\\uc5d0 \\ubc18\\uc785\\uae08\\uc9c0 \\ud488\\ubaa9\\uc73c\\ub85c \\ub77c\\uc774\\ud130,  \\ubc84\\ub108,  \\uacfc\\ub3c4 \\ub4f1\\uc774 \\uc788\\uc2b5\\ub2c8\\ub2e4. A: \\uc5ec\\uae30 \\uc785\\uc6d0\\uc0dd\\ud65c\\uc548\\ub0b4\\ubb38\\uc744 \\ubcf4\\uc2dc\\uba74 \\ub354 \\uc790\\uc138\\ud558\\uac8c \\ub098\\uc640\\uc788\\uc73c\\ub2c8 \\ud55c\\ubc88 \\uc77d\\uc5b4\\ubcf4\\uc2dc\\uae30 \\ubc14\\ub77c\\uace0\\uc694,  \\ud639\\uc2dc \\ub2e4\\ub978 \\uad81\\uae08\\ud55c \\uc0ac\\ud56d \\uc788\\uc744\\uae4c\\uc694? B: \\uc544\\u2026\\uc544\\ub2c8\\uc694. A: \\ub124 \\uadf8\\ub7ec\\uba74 \\uc785\\uc6d0\\uc0dd\\ud65c\\uc548\\ub0b4\\ubb38 \\uc544\\ub798\\uc5d0 \\uc11c\\uba85\\ud55c\\ubc88 \\ubd80\\ud0c1\\ub4dc\\ub9b4\\uac8c\\uc694. A: \\uc124\\uba85\\uc744 \\ub4e4\\uc5c8\\ub2e4\\ub294 \\uc758\\ubbf8\\ub85c \\uc0ac\\uc778\\ud558\\ub294 \\uac70\\uace0\\uc694,  \\uc5ec\\uae30\\ub2e4 \\ud574\\uc8fc\\uc2dc\\uba74\\ub429\\ub2c8\\ub2e4. B: \\ub124. A: \\ub124 \\uadf8\\ub9ac\\uace0 \\uc5ec\\uae30\\ub3c4 \\uc0ac\\uc778\\ubd80\\ud0c1\\ub4dc\\ub9b4\\uac8c\\uc694,  \\uc774\\uac70\\ub294 \\ud658\\uc790\\ubd84\\uc744 \\uce58\\ub8cc\\ud560 \\ub54c \\uc0ac\\uc6a9\\ud558\\ub294 \\uc8fc\\uc0ac\\ub098 \\uc8fc\\uc0ac\\uc7ac\\ub8cc \\ub4f1 \\uc911\\uc5d0 \\ube44\\uae09\\uc5ec \\ud56d\\ubaa9\\uc774 \\ud3ec\\ud568\\ub418\\uc5b4\\uc788\\uc744\\uc218 \\uc788\\uace0 \\uc774\\uc5d0\\ub300\\ud574 \\ub3d9\\uc758\\ud55c\\ub2e4\\ub294 \\uc11c\\uba85\\uc785\\ub2c8\\ub2e4. B: \\ub124. \\ube44\\uae09\\uc5ec\\uba74 \\ub9ce\\uc774 \\ube44\\uc2fc\\uac00\\uc694? A: \\uc544\\ubb34\\ub798\\ub3c4 \\uae08\\uc561\\uc801\\uc778 \\uba74\\uc774 \\uc9c0\\uc6d0\\ub418\\ub294 \\uae09\\uc5ec \\ud488\\ubaa9 \\ubcf4\\ub2e4\\ub294 \\uac00\\uaca9\\uc774 \\ub098\\uac11\\ub2c8\\ub2e4. B: \\u2026\\uadf8\\ub7ec\\uba74 \\uc0ac\\uc778\\uc548\\ud558\\uace0 \\uae09\\uc5ec\\ud488\\ubaa9\\ub9cc \\ubc1b\\uc73c\\uba74 \\ub418\\ub294\\uac70 \\uc544\\ub2c8\\uc5d0\\uc694? A: \\uae09\\uc5ec\\ud488\\ubaa9\\uc744 \\uc0ac\\uc6a9\\ud558\\uba74 \\uc88b\\uc9c0\\ub9cc \\uadf8\\ubcf4\\ub2e4 \\uc88b\\uc740\\uac70\\ub294 \\ud658\\uc790\\ubd84\\uc774 \\ube68\\ub9ac \\ub0ab\\ub294\\uac70\\ub77c\\uc11c\\uc694. A: \\ud544\\uc694\\uc5c6\\ub294\\uac83\\uc740 \\uc4f0\\uc9c0 \\uc54a\\uac8c \\ud658\\uc790\\ubd84\\ud55c\\ud14c \\ud544\\uc694\\ud55c \\ubd80\\ubd84\\ub9cc \\uadf8\\uac83\\ub3c4 \\uc5b4\\uca54 \\uc218 \\uc5c6\\uc774 \\uc4f0\\ub294 \\ubd80\\ubd84\\ub9cc \\ube44\\uae09\\uc5ec\\ub85c \\uc0ac\\uc6a9\\ud558\\uc2e4\\uac70\\uc5d0\\uc694. A: \\ud1f4\\uc6d0\\ud558\\uc2e4\\ub54c\\ub294 \\ubcf4\\ud5d8\\uc2ec\\uc0ac\\ud300\\uc5d0\\uc11c \\uc0ac\\uc6a9\\ud55c \\uc7ac\\ub8cc \\uc911\\uc5d0 \\uacfc\\ub2e4\\ud558\\uac8c \\uc0ac\\uc6a9\\ud55c\\uac8c \\uc788\\ub294\\uc9c0 \\ud55c\\ubc88 \\ub354 \\uac70\\ub97c\\uac70\\uc5d0\\uc694. A: \\ub108\\ubb34 \\uac71\\uc815\\ud558\\uc9c0\\ub294 \\uc54a\\uc73c\\uc154\\ub3c4 \\ub418\\uc138\\uc694. B: \\ub124. \\uadfc\\ub370 \\ubcd1\\uc6d0\\ube44\\uac00 \\uac71\\uc815\\uc774\\ub77c\\uc11c\\uc694. A: \\uadf8\\ub7f0\\ubd80\\ubd84\\uc740 \\uc0ac\\ud68c\\uc0ac\\uc5c5\\uc9c0\\uc6d0\\ud300\\uc5d0\\uc11c \\ub3c4\\uc640\\uc904\\uc218\\ub3c4 \\uc788\\uc5b4\\uc694. A: \\uc0c1\\ub2f4 \\uc5f0\\uacb0 \\ud574\\ub4dc\\ub9b4\\uae4c\\uc694? B: \\uc544\\u2026\\ub124 \\uadf8\\ub798\\uc8fc\\uc138\\uc694. A: \\ub124 \\uc54c\\uaca0\\uc2b5\\ub2c8\\ub2e4. A: \\uadf8\\ucabd\\uc5d0 \\uc5f0\\ub77d\\ud574\\uc11c \\uc0c1\\ub2f4\\ud558\\ub7ec \\uc624\\uc2dc\\ub77c\\uace0\\ud558\\uba74 \\ub9d0\\uc500 \\uc804\\ud574\\ub4dc\\ub9b4\\uac8c\\uc694. B: \\ub124. A: \\uadf8\\ub7ec\\uba74 \\uc5ec\\uae30 \\uc0ac\\uc778\\ud574\\uc8fc\\uc2dc\\uace0\\uc694~ B: \\ub124\\u2026 A: \\ub418\\uc168\\uc2b5\\ub2c8\\ub2e4. A: \\uc774\\uc81c \\uc124\\uba85 \\ub4dc\\ub9b4\\uac70\\ub294 \\ub2e4 \\ub05d\\ub0ac\\uace0\\uc694, ...]\n",
              "Index: []\n",
              "\n",
              "[0 rows x 18652 columns]"
            ]
          },
          "metadata": {
            "tags": []
          },
          "execution_count": 3
        }
      ]
    },
    {
      "cell_type": "code",
      "metadata": {
        "colab": {
          "base_uri": "https://localhost:8080/"
        },
        "id": "ZTma2V5NBSAI",
        "outputId": "6f4d9dbc-cee9-4790-bf25-bc97ab3cc406"
      },
      "source": [
        "pip install customized_konlpy"
      ],
      "execution_count": 11,
      "outputs": [
        {
          "output_type": "stream",
          "text": [
            "Collecting customized_konlpy\n",
            "\u001b[?25l  Downloading https://files.pythonhosted.org/packages/07/8c/d39c483b637a6d85ab2d6da50012810628982bbd5279818bdc5dd1e7da51/customized_konlpy-0.0.64-py3-none-any.whl (881kB)\n",
            "\u001b[K     |████████████████████████████████| 890kB 8.5MB/s \n",
            "\u001b[?25hCollecting konlpy>=0.4.4\n",
            "\u001b[?25l  Downloading https://files.pythonhosted.org/packages/85/0e/f385566fec837c0b83f216b2da65db9997b35dd675e107752005b7d392b1/konlpy-0.5.2-py2.py3-none-any.whl (19.4MB)\n",
            "\u001b[K     |████████████████████████████████| 19.4MB 1.3MB/s \n",
            "\u001b[?25hCollecting Jpype1>=0.6.1\n",
            "\u001b[?25l  Downloading https://files.pythonhosted.org/packages/de/af/93f92b38ec1ff3091cd38982ed19cea2800fefb609b5801c41fc43c0781e/JPype1-1.2.1-cp36-cp36m-manylinux2010_x86_64.whl (457kB)\n",
            "\u001b[K     |████████████████████████████████| 460kB 29.6MB/s \n",
            "\u001b[?25hCollecting beautifulsoup4==4.6.0\n",
            "\u001b[?25l  Downloading https://files.pythonhosted.org/packages/9e/d4/10f46e5cfac773e22707237bfcd51bbffeaf0a576b0a847ec7ab15bd7ace/beautifulsoup4-4.6.0-py3-none-any.whl (86kB)\n",
            "\u001b[K     |████████████████████████████████| 92kB 9.4MB/s \n",
            "\u001b[?25hCollecting tweepy>=3.7.0\n",
            "  Downloading https://files.pythonhosted.org/packages/67/c3/6bed87f3b1e5ed2f34bd58bf7978e308c86e255193916be76e5a5ce5dfca/tweepy-3.10.0-py2.py3-none-any.whl\n",
            "Requirement already satisfied: lxml>=4.1.0 in /usr/local/lib/python3.6/dist-packages (from konlpy>=0.4.4->customized_konlpy) (4.2.6)\n",
            "Requirement already satisfied: numpy>=1.6 in /usr/local/lib/python3.6/dist-packages (from konlpy>=0.4.4->customized_konlpy) (1.19.5)\n",
            "Collecting colorama\n",
            "  Downloading https://files.pythonhosted.org/packages/44/98/5b86278fbbf250d239ae0ecb724f8572af1c91f4a11edf4d36a206189440/colorama-0.4.4-py2.py3-none-any.whl\n",
            "Requirement already satisfied: typing-extensions; python_version < \"3.8\" in /usr/local/lib/python3.6/dist-packages (from Jpype1>=0.6.1->customized_konlpy) (3.7.4.3)\n",
            "Requirement already satisfied: requests[socks]>=2.11.1 in /usr/local/lib/python3.6/dist-packages (from tweepy>=3.7.0->konlpy>=0.4.4->customized_konlpy) (2.23.0)\n",
            "Requirement already satisfied: six>=1.10.0 in /usr/local/lib/python3.6/dist-packages (from tweepy>=3.7.0->konlpy>=0.4.4->customized_konlpy) (1.15.0)\n",
            "Requirement already satisfied: requests-oauthlib>=0.7.0 in /usr/local/lib/python3.6/dist-packages (from tweepy>=3.7.0->konlpy>=0.4.4->customized_konlpy) (1.3.0)\n",
            "Requirement already satisfied: idna<3,>=2.5 in /usr/local/lib/python3.6/dist-packages (from requests[socks]>=2.11.1->tweepy>=3.7.0->konlpy>=0.4.4->customized_konlpy) (2.10)\n",
            "Requirement already satisfied: chardet<4,>=3.0.2 in /usr/local/lib/python3.6/dist-packages (from requests[socks]>=2.11.1->tweepy>=3.7.0->konlpy>=0.4.4->customized_konlpy) (3.0.4)\n",
            "Requirement already satisfied: urllib3!=1.25.0,!=1.25.1,<1.26,>=1.21.1 in /usr/local/lib/python3.6/dist-packages (from requests[socks]>=2.11.1->tweepy>=3.7.0->konlpy>=0.4.4->customized_konlpy) (1.24.3)\n",
            "Requirement already satisfied: certifi>=2017.4.17 in /usr/local/lib/python3.6/dist-packages (from requests[socks]>=2.11.1->tweepy>=3.7.0->konlpy>=0.4.4->customized_konlpy) (2020.12.5)\n",
            "Requirement already satisfied: PySocks!=1.5.7,>=1.5.6; extra == \"socks\" in /usr/local/lib/python3.6/dist-packages (from requests[socks]>=2.11.1->tweepy>=3.7.0->konlpy>=0.4.4->customized_konlpy) (1.7.1)\n",
            "Requirement already satisfied: oauthlib>=3.0.0 in /usr/local/lib/python3.6/dist-packages (from requests-oauthlib>=0.7.0->tweepy>=3.7.0->konlpy>=0.4.4->customized_konlpy) (3.1.0)\n",
            "Installing collected packages: beautifulsoup4, tweepy, colorama, Jpype1, konlpy, customized-konlpy\n",
            "  Found existing installation: beautifulsoup4 4.6.3\n",
            "    Uninstalling beautifulsoup4-4.6.3:\n",
            "      Successfully uninstalled beautifulsoup4-4.6.3\n",
            "  Found existing installation: tweepy 3.6.0\n",
            "    Uninstalling tweepy-3.6.0:\n",
            "      Successfully uninstalled tweepy-3.6.0\n",
            "Successfully installed Jpype1-1.2.1 beautifulsoup4-4.6.0 colorama-0.4.4 customized-konlpy-0.0.64 konlpy-0.5.2 tweepy-3.10.0\n"
          ],
          "name": "stdout"
        }
      ]
    },
    {
      "cell_type": "code",
      "metadata": {
        "id": "1zSzABdSBe4r"
      },
      "source": [
        "from ckonlpy.tag import Twitter\r\n",
        "from tensorflow.keras.utils import get_file\r\n",
        "from tensorflow.keras.preprocessing.sequence import pad_sequences\r\n",
        "from tensorflow.keras.utils import to_categorical\r\n",
        "import numpy as np\r\n",
        "from nltk import FreqDist\r\n",
        "from functools import reduce\r\n",
        "import os\r\n",
        "import re\r\n",
        "import matplotlib.pyplot as plt"
      ],
      "execution_count": 12,
      "outputs": []
    },
    {
      "cell_type": "code",
      "metadata": {
        "id": "4Yc2lRQpBisg"
      },
      "source": [
        "import json\r\n",
        "from pprint import pprint\r\n",
        "\r\n",
        "with open('/content/drive/MyDrive/hackathon_2-2/data/train/MedQuAD_v1.0_train.json') as train_file:    \r\n",
        "    data = json.load(train_file)"
      ],
      "execution_count": 16,
      "outputs": []
    },
    {
      "cell_type": "code",
      "metadata": {
        "colab": {
          "base_uri": "https://localhost:8080/"
        },
        "id": "V4kBsnLXDngE",
        "outputId": "d2a6bb8c-97bc-45c2-e828-5857f6b8ac3b"
      },
      "source": [
        "data[\"data\"][0]"
      ],
      "execution_count": 17,
      "outputs": [
        {
          "output_type": "execute_result",
          "data": {
            "text/plain": [
              "{'paragraphs': [{'context': 'A: 안녕하세요. A: 혹시 입원하러 오셨나요? B: 네. 여기요. A: 네. A: 000님 기다리고 있었어요. A: 얼른 키와 몸무게부터 재고 병실 안내해드리겠습니다. B: 네. A: 여기 올라가 보시겠어요? B: 짐은. A: 아 짐은 옆 의자에 두시면 될것같아요. B: 네. A: 네 되셨습니다. A: 내려오세요. B: 네. A: 그러면 이제 병실 안내해드릴건데 그전에 환자팔찌 채워드릴게요. A: 앞으로 주사나 약 투여할 때 꼭 확인해야하니까 빼거나 잃어 버리면 말씀해주세요. B: 네. A: 환자분 성함도 계속 물어볼텐데 정확한 환자 및 약물 투여를 확인하기 위해 하는 필요한 절차이니까 협조 잘 부탁드릴게요! B: 네네. A: 그러면 성함이랑 생년월일 말씀해주시겠어요? B: 네. 000, 00년 00월 00일. A: 네 000님 팔찌 매드릴게요. A: 되셨습니다. A: 병실 안내해드릴게요 이쪽으로 따라와 주세요. B: 네. A: 네 여기입니다. A: 어제 다 퇴원하셔서 지금은 자리가 다 비워져 있어요~ 편하신 자리에 앉아 주시겠어요? B: 네. 여기로 할게요. A: 네 나중에 자리 바꾸기 힘들다는 점 미리 말씀드리고요~ 일단은 환의로 갈아입으시고 짐 정리하고 계시면 다시와서 혈압이랑 체온도 재고, 환자분의 정확한 상태파악을 위해 몇가지 물어볼거에요. B: 네네. B: 이거는 제가 사용해도 되는거맞죠? A: 네네 열면 그냥 열릴꺼에요 편하게 사용하면 되세요. A: 지금 비밀번호가 초기화되서 샾버튼 누르시고 편하신 번호 4자리 입력하시면 되세요. B: 아 네. A: 네 그러면 이따가 다시 오겠습니다. A: 커튼 치고 갈게요. B: 네. A: 환자분~ B: 네. A: 옷 다 갈아입으셨으면 들어갈게요. B: 네. A: 그러면 이제 혈압부터 재겠습니다. A: 편하게 누워계셔도 되세요. A: 팔만 편하게 내려주세요. B: 네. A: 네 감사합니다. A: 혈압은 108에 68, 맥박은 94회이시네요. A: 체온은 정상이에요. B: 몇도에요? A: 36.7도 입니다. B: 네. A: 이제 병원내 시설 및 병동안내를 해드리겠습니다. A: 현재 이곳은 본관 8층 소화기내과 병동이고요. A: 지금 있는 병실은 4인실입니다. A: 여기서 가까운 비상구 위치는 나가서. A: 음 병동을 같이 한번 돌까요? 그게 이해하기 편하실꺼같아요. B: 네네 편하신데로하세요. A: 네 그러면 저를 따라와 주세요. A: 가면서 설명드리겠습니다. B: 네. A: 병실에서 나와서 왼쪽으로 가시면 끝에 유리문 보이시죠? A: 저것이 비상구고요, 여기말고도 올라오신 엘리베이터 뒤에 계단이 또 있어요, 거기도 비상구로 사용합니다. B: 네네. A: 네 그리고 이쪽으로 좀 더 가면 배선실이 있는데 편하게 휴게실로 생각하시면됩니다. A: 안에 보시다시피 티비, 정수기, 전자레인지, 쇼파 등이 있는거 보이시죠? B: 네네. 여기서 쉬면 되겠네요. A: 네 편하게 이용하시면 되시는데 회진시간일때는 자리에 계셔주셔야 하세요. B: 회진시간이 몇시인데요? A: 환자분의 주치의가 아 교수님은 아침일찍 오시거든요? A: 아침 식사 하시고 나서 20~30분 정도만 기다리시면 금방 오실거에요. B: 네. 아침은 몇시에요? B: 제가 뭘 안먹으면 아파서. A: 네 아침은 보통 7시 40분에서 50분 사이에 올라옵니다. A: 조금 시간이 더걸릴 수도 있고요. B: 네. A: 아 그리고 교수님도 가끔 회진 도시지 않는 날이 있는데요, 보통 수술이 잡히거나 하면 못오시거든요. A: 아침 식사하시고 30분정도 기다려도 안온다 하면, 오후에 온다고 생각하시면 되세요. B: 아 오후에도 와요? A: 오전에 못오시면 오후에라도 오세요. A: 전날 당직만 아니시면요. B: 네, 계속 자리에 있어야겠네. A: 편하신데로하세요. A: 이제 반대로 돌아가겠습니다. A: 그러면 이어서 설명드릴게요. A: 병동 중앙에는 간호사 스테이션이 위치해있고요, 각 복도 끝, 그리고 중간중간에 간호사보조스테이션이 있어요. A: 환자분이 뭔가 필요해서 간호사를 찾을때는 근처 스테이션에 있는 간호사를 부르거나 호출벨을 눌러주시면 됩니다. A: 이따가 호출벨 사용법도 알려드릴게요. B: 아. 네. A: 일단은 제가 환자분 담당이니까 무슨일 생기면 저한테 말씀해주시면 되세요. A: 다른 분한테 말해도 잘 모를거에요. B: 네. A: 병실마다 각각 화장실이 있는데요, 여기에도 화장실이 있습니다. A: 편하신 곳 사용하시면 되시고, 옆에는 세척실이 있는데 아마 환자분은 사용하지 않으실 테니 설명안드리고 넘어가도록할게요. A: 마지막으로 갈아입고난 환의를 벗어두는 곳이 여기 아무런 무늬 없는 문을 열면 있습니다. A: 안에 문을 또 열어서 그냥 쑥하고 넣으시면 되세요. B: 네. A: 그러면 이제 병실로 돌아갈게요, 그다음 마저 설명드리도록 하겠습니다. B: 네. A: 여기 침상위에 있는 동그란벨과 전화줄처럼 이어진게 호출벨이에요. A: 한번 누르면 중앙스테이션에서 울려서 전화를 받거나 간호사가 뛰어올껀데, 잘못누르셨다면 한번 더 누르면 취소가 됩니다. B: 네. A: 그리고 침상에는 바퀴가 달려있기 때문에 힘을 주거나 기대면 갑자기 밀릴수가 있기 때문에 조심해주시기바랍니다. 그리고 주무실때나 쉬실 때 등 침상위에서 쉬고 계실때는 항상 침상난간을 올려주셔야하는데요, 이렇게 딱 소리가 날때까지 올려주셔야 제대로 올라간겁니다. B: 네. A: 혹시나 화장실 바닥이 미끄러울수 있으니 사용하실 때 바닥이 젖지는 않아있는지 조심해주시고요, 병원내 전부 금연 구역입니다. A: 흡연은 입원중에는 못하시게 되있어요, 특히 환자분의 경우 흡연이 매우 안좋기 때문에 꼭 금연부탁드립니다. B: 흡연했을때 나오는게 막 소장을 자극하는거에요? A: 환자분의 경우에는 십이지장에 궤양이 생긴건데요, 흡연했을때 나오는 유해물질들이 점막 세포의 재생과 점막아래에 혈액순환까지 방해하기 때문에 치료를 위해서는 금연이 꼭 필요합니다. B: 네. A: 일단 계속 병동설명드리도록 할게요. A: 병원에 반입금지 품목으로 라이터, 버너, 과도 등이 있습니다. A: 여기 입원생활안내문을 보시면 더 자세하게 나와있으니 한번 읽어보시기 바라고요, 혹시 다른 궁금한 사항 있을까요? B: 아…아니요. A: 네 그러면 입원생활안내문 아래에 서명한번 부탁드릴게요. A: 설명을 들었다는 의미로 사인하는 거고요, 여기다 해주시면됩니다. B: 네. A: 네 그리고 여기도 사인부탁드릴게요, 이거는 환자분을 치료할 때 사용하는 주사나 주사재료 등 중에 비급여 항목이 포함되어있을수 있고 이에대해 동의한다는 서명입니다. B: 네. 비급여면 많이 비싼가요? A: 아무래도 금액적인 면이 지원되는 급여 품목 보다는 가격이 나갑니다. B: …그러면 사인안하고 급여품목만 받으면 되는거 아니에요? A: 급여품목을 사용하면 좋지만 그보다 좋은거는 환자분이 빨리 낫는거라서요. A: 필요없는것은 쓰지 않게 환자분한테 필요한 부분만 그것도 어쩔 수 없이 쓰는 부분만 비급여로 사용하실거에요. A: 퇴원하실때는 보험심사팀에서 사용한 재료 중에 과다하게 사용한게 있는지 한번 더 거를거에요. A: 너무 걱정하지는 않으셔도 되세요. B: 네. 근데 병원비가 걱정이라서요. A: 그런부분은 사회사업지원팀에서 도와줄수도 있어요. A: 상담 연결 해드릴까요? B: 아…네 그래주세요. A: 네 알겠습니다. A: 그쪽에 연락해서 상담하러 오시라고하면 말씀 전해드릴게요. B: 네. A: 그러면 여기 사인해주시고요~ B: 네… A: 되셨습니다. A: 이제 설명 드릴거는 다 끝났고요, 마지막으로 환자분의 정확한 상태 파악을 위해서 몇가지 질문을 드릴게 있어요. B: 네. A: 금방 노트북 가지고 올 테니까 잠시만 기다려주세요~ B: 네. A: 환자분~ 잘쉬고 계셨나요? B: 에?에. A: 그러면 이제 질문 드리겠습니다. A: 환자분의 연락처 말씀해주시겠어요? B: 010-0000-0000입니다. A: 네, 혹시 보호자분은 안오실예정인가요? B: 아. 아마 어머니께서 내일 중으로 오실꺼에요. A: 네 어머니 성함이랑 연락처 말씀해주시겠어요? 비상연락망이 필요해서요. B: 아. 그런거면 제 동생알려드릴게요, 어머니가 전화를 낮선전화는 잘안받으셔서. A: 네 그러면 동생분 성함이랑 연락처 알려주시겠어요? B: 000, 010-0000-0000 A: 010-0000-0000 맞나요? B: 네. 맞습니다. A: 알겠습니다. A: 혹시 종교가 어떻게 되시나요? B: 무교입니다. A: 최근 4주이내에 여행하신적이 있으신가요? B: 아니요. A: 최근 삼 개월 이내에 입원이나 수술하신 적 있으신가요? B: 아니요. A: 흡연하시나요? B: 네 하죠. A: 하루에 얼마나 피세요? B: 반갑정도로 줄였어요. A: 언제부터 줄이셨어요? B: 이제 일주일 됬지요. A: 그전에는 하루에 얼마나 피셨어요? B: 한갑은 넘게 폈지~ A: 네…흡연하시게 된건 언제부터에요? B: 어릴때부터 폈으니까. B: 20년. B: 30년은 넘었지. 아마? A: 적어도 이게 다 나을 동안에는 금연하시고요, 나중에 다 낫고 흡연 생각 나더라도, 재발할 수도 있으니깐요, 금연 꼭 하세요. B: 네. A: 음주는 하세요? B: 그럼 하지. A: 달에 몇회 정도 드세요? B: 달로 치면…9번 10번? 정도 되는거 같네. A: 소주로 드시는거세요? B: 아니아니 막걸리~ A: 한번 드실때는 얼마나 드세요? B: 서넉잔 정도? A: 막걸리 컵으로 말씀하시는거죠? B: 그렇치. A: 지금 어디가 제일 불편하세요? B: 여기 가슴 아래 부분. B: 뭐라 하더라? 아 명치 안쪽이 쓰려요. A: 명치 부위가 쓰라린다는 말씀이시죠? B: 네. A: 언제부터 아프셨어요? B: 몰라요. B: 쓰린 거는 최근에야 시작했는데. A: 대충이라도 모르세요? B: 3일인가 4일정도 된거 같아요. A: 명치 쓰라린거 말고 다른 불편한거는 없으세요? B: 없지, 쓰라린거 때문에 자다가 일어나요. A: 잠을 잘 못주무시는군요. B: 네네. A: 통증에 점수를 매겨볼게요. A: 일 점이 가장 약한 통증이고 십 점이 가장 강한 통증일 때 몇 점 정도 되시는가요? B: 근데 이게 계속 아픈 게 아니라 뭐 먹으면 괜찮아지고 그러다가 또 얼마 안 가서 쓰라리고 그래요. A: 네 아플때는 몇점 정도되는거 같아요? B: 한…6점 정도 되는거 같네요. A: 한번 쓰라리면 얼마나 지속되나요? B: 뭐먹으면 금방 괜찮아져요. A: 네 알겠습니다. A: 고혈압, 당뇨, 결핵, 간염과 같은 만성 질환 앓고 계신 거 있으세요? B: 없습니다. A: 음식이나 약에 대한 알러지 있으신가요? B: 없어요. A: 최근에 복용하고 계신 약물 있으신가요? B: 약국에서 받은 약도 말해야 해요? A: 네네 현재 환자분이 드시고 계시거나 최근까지 드신 약은 다 말씀해주세요. B: 속쓰려서 위장약 타다 먹었지 게보린인가. A: 네 오늘 아침에도 드셨어요? B: 아니~효과없고 밥먹으니 괜찮아져서 금방 관뒀지. A: 식사하시는건 문제 없으세요? 드시기 힘들거나 입맛없거나. B: 안그러지 오히려 먹을려 하지요. A: 네 다른거는 상관없는데 커피나 알코올 들어간 음료나 오렌지 주스 같은 위를 자극하는 음료는 드시지 마세요. A: 매운 것나 향신료 강한 음식도 당분간은 드시지 마시고요. B: 네 우유는 괜찮죠? 우유먹으니까 금방 괜찮더라고. A: 우유도 안되요, 우유 안에 들어있는 칼슘이 위산 분비를 더 자극해서 좋지않아요. A: 물을 드세요. B: 아…. A: 그리고 식사도 소량씩 자주하는게 좋으시고요, 혹시 최근 살이찌거나 빠지는 변화가 있으신가요? B: 살이요? 음 잘 모르겠네요, 요즘 많이 먹으니까 조금 찐거 같기도 하고. A: 아까 몸무게 쟀는데 그 전이랑 비교하면요? B: 음. 잘 기억은 안 나는데 마지막에 쟀을 때보다 조금 찐 거 같아요. B: 사 킬로그램 정도? A: 언제 재신거에요? B: 잘은 모르겠는데 6개월은 된거같아요. A: 잠은 아까 중간에 깨신다고 했는데. A: 하루에 보통 몇 시간 정도 주무세요? B: 중간에 깨는 거 빼면 여섯 시간 정도요. A: 속쓰려서 중간에 깨나면 어떻게 다시 잠을 청하세요? B: 그냥 참고 자는거지뭐, 물 조금 마시고. A: 소변은 잘보세요? B: 네. A: 대변도 잘보시고요? B: 요즘 똥이 검더라, 다른때보다 검게나와요. A: 그건 언제부터 그러셨어요? B: 어젯밤부터 그러더라고. A: 오늘도 대변보셨을 때 흑색변 보셨어요? B: 오늘은 아직 안나와서 모르겠네요. A: 나중에 대변보시면 내리지 마시고 저한번 불러주세요. B: 네. A: 혹시 어지럽거나 빈혈 증상 있으신가요? B: 아니요 그런 거는 없어요. A: 혹시라도 조금이라도 어지러운거 같으면 혼자 일어서지 마시고 콜벨 눌러주세요. B: 네. A: 심장이 갑자기 빠르게 뛰거나 숨쉬기 어렵다거나 식은땀 혹은 가슴의 통증이 나타나는 증상이 있으신가요? B: 아니요 없습니다. A: 구토할 것 같거나, 복부가 아프거나 복부가 팽만되있다는 느낌 그런거는 없으세요? B: 네네 없어요. A: 기침, 가래, 콧물과 같은 감기 같은 증상도 없으시고요? B: 네네 없어요. A: 시력이 안 좋아서 장애 등급을 받을 정도인가요? B: 아니요. A: 청력이 안 좋아서 장애 등급을 받거나 최근 자주 이명이 들리시나요? B: 아니요. A: 보청기나, 의치와 같은 보조기구 사용하시나요? B: 아니요. A: 갑자기 저린다거나 무감각해지는 부위 있으실까요? B: 아니요. A: 가족 병력에 대해서 여쭙겠습니다. A: 혹시 주위 친가 중에 고혈압이나 당뇨, 결핵, 간 질환, 종양과 같은 만성 유전성 질환 앓고 계신 분 있으신가요? B: 아니요. A: 현재 누구와 살고 계십니까? B: 부모님이랑 살고있어요. A: 네 알겠습니다. A: 이제 필요한 질문은 다되셨어요. A: 감사합니다. A: 조금 있다가 약 올라오면 수액이랑 같이 가져올게요, 그때까지 잠시만 자리에서 쉬고 계셔주세요~ B: 네.',\n",
              "   'qas': [{'answers': [{'answer_start': 4163,\n",
              "       'text': 'A: 최근 삼 개월 이내에 입원이나 수술하신 적 있으신가요? B: 아니요.'}],\n",
              "     'id': '1@20KMB_23_210115_H.txt',\n",
              "     'question': '입원/수술/치료 경험 확인'},\n",
              "    {'answers': [{'answer_start': 4205, 'text': 'A: 흡연하시나요? B: 네 하죠.'}],\n",
              "     'id': '2@26KMB_23_210115_H.txt',\n",
              "     'question': '흡연 여부'},\n",
              "    {'answers': [{'answer_start': 4463, 'text': 'A: 음주는 하세요? B: 그럼 하지.'}],\n",
              "     'id': '3@27KMB_23_210115_H.txt',\n",
              "     'question': '평소 음주 여부'},\n",
              "    {'answers': [{'answer_start': 4617,\n",
              "       'text': 'A: 지금 어디가 제일 불편하세요? B: 여기 가슴 아래 부분. B: 뭐라 하더라? 아 명치 안쪽이 쓰려요.'}],\n",
              "     'id': '4@17KMB_23_210115_H.txt',\n",
              "     'question': '통증 부위'},\n",
              "    {'answers': [{'answer_start': 4707,\n",
              "       'text': 'A: 언제부터 아프셨어요? B: 몰라요. B: 쓰린 거는 최근에야 시작했는데.'}],\n",
              "     'id': '5@2KMB_23_210115_H.txt',\n",
              "     'question': '주 증상 발생 기간 확인'},\n",
              "    {'answers': [{'answer_start': 4884,\n",
              "       'text': 'A: 일 점이 가장 약한 통증이고 십 점이 가장 강한 통증일 때 몇 점 정도 되시는가요? B: 근데 이게 계속 아픈 게 아니라 뭐 먹으면 괜찮아지고 그러다가 또 얼마 안 가서 쓰라리고 그래요.'}],\n",
              "     'id': '6@18KMB_23_210115_H.txt',\n",
              "     'question': '통증 강도'},\n",
              "    {'answers': [{'answer_start': 5088,\n",
              "       'text': 'A: 고혈압, 당뇨, 결핵, 간염과 같은 만성 질환 앓고 계신 거 있으세요? B: 없습니다.'}],\n",
              "     'id': '7@22KMB_23_210115_H.txt',\n",
              "     'question': '보유 질병 확인'},\n",
              "    {'answers': [{'answer_start': 5173,\n",
              "       'text': 'A: 최근에 복용하고 계신 약물 있으신가요? B: 약국에서 받은 약도 말해야 해요?'}],\n",
              "     'id': '8@21KMB_23_210115_H.txt',\n",
              "     'question': '현재 복용 약 여부'},\n",
              "    {'answers': [{'answer_start': 5689,\n",
              "       'text': 'A: 아까 몸무게 쟀는데 그 전이랑 비교하면요? B: 음. 잘 기억은 안 나는데 마지막에 쟀을 때보다 조금 찐 거 같아요. B: 사 킬로그램 정도?'}],\n",
              "     'id': '9@14KMB_23_210115_H.txt',\n",
              "     'question': '체중변화 확인'},\n",
              "    {'answers': [{'answer_start': 5832,\n",
              "       'text': 'A: 하루에 보통 몇 시간 정도 주무세요? B: 중간에 깨는 거 빼면 여섯 시간 정도요.'}],\n",
              "     'id': '10@29KMB_23_210115_H.txt',\n",
              "     'question': '하루 평균 수면 시간 확인'},\n",
              "    {'answers': [{'answer_start': 6119,\n",
              "       'text': 'A: 혹시 어지럽거나 빈혈 증상 있으신가요? B: 아니요 그런 거는 없어요.'}],\n",
              "     'id': '11@8KMB_23_210115_H.txt',\n",
              "     'question': '현기증 유무 확인'},\n",
              "    {'answers': [{'answer_start': 6346,\n",
              "       'text': 'A: 기침, 가래, 콧물과 같은 감기 같은 증상도 없으시고요? B: 네네 없어요.'}],\n",
              "     'id': '12@6KMB_23_210115_H.txt',\n",
              "     'question': '호흡기 증상 유무 확인'},\n",
              "    {'answers': [{'answer_start': 6392,\n",
              "       'text': 'A: 시력이 안 좋아서 장애 등급을 받을 정도인가요? B: 아니요.'}],\n",
              "     'id': '13@12KMB_23_210115_H.txt',\n",
              "     'question': '시력 증상 확인'},\n",
              "    {'answers': [{'answer_start': 6430,\n",
              "       'text': 'A: 청력이 안 좋아서 장애 등급을 받거나 최근 자주 이명이 들리시나요? B: 아니요.'}],\n",
              "     'id': '14@13KMB_23_210115_H.txt',\n",
              "     'question': '청력 증상 확인'},\n",
              "    {'answers': [{'answer_start': 6516,\n",
              "       'text': 'A: 갑자기 저린다거나 무감각해지는 부위 있으실까요? B: 아니요.'}],\n",
              "     'id': '15@9KMB_23_210115_H.txt',\n",
              "     'question': '신경계 증상 유무 확인'},\n",
              "    {'answers': [{'answer_start': 6576,\n",
              "       'text': 'A: 혹시 주위 친가 중에 고혈압이나 당뇨, 결핵, 간 질환, 종양과 같은 만성 유전성 질환 앓고 계신 분 있으신가요? B: 아니요.'}],\n",
              "     'id': '16@19KMB_23_210115_H.txt',\n",
              "     'question': '가족 중 병력 유무 확인'}]}],\n",
              " 'title': './train/KMB_23_210115_H.txt'}"
            ]
          },
          "metadata": {
            "tags": []
          },
          "execution_count": 17
        }
      ]
    },
    {
      "cell_type": "code",
      "metadata": {
        "colab": {
          "base_uri": "https://localhost:8080/"
        },
        "id": "wecT7OGMD2aA",
        "outputId": "0b6b9978-5697-414f-fffc-afb5617a884e"
      },
      "source": [
        "data[\"data\"][0].keys()"
      ],
      "execution_count": 18,
      "outputs": [
        {
          "output_type": "execute_result",
          "data": {
            "text/plain": [
              "dict_keys(['paragraphs', 'title'])"
            ]
          },
          "metadata": {
            "tags": []
          },
          "execution_count": 18
        }
      ]
    },
    {
      "cell_type": "code",
      "metadata": {
        "id": "-eEqp0s_EQHa"
      },
      "source": [
        ""
      ],
      "execution_count": null,
      "outputs": []
    }
  ]
}